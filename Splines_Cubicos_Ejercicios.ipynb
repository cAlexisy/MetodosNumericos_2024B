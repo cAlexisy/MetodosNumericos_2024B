{
  "nbformat": 4,
  "nbformat_minor": 0,
  "metadata": {
    "colab": {
      "provenance": []
    },
    "kernelspec": {
      "name": "python3",
      "display_name": "Python 3"
    },
    "language_info": {
      "name": "python"
    }
  },
  "cells": [
    {
      "cell_type": "code",
      "execution_count": 22,
      "metadata": {
        "colab": {
          "base_uri": "https://localhost:8080/",
          "height": 35
        },
        "id": "EGxeg0glA-Pa",
        "outputId": "5778fe1c-1dab-415d-903e-8f85852cd016"
      },
      "outputs": [
        {
          "output_type": "execute_result",
          "data": {
            "text/plain": [
              "'\\nxs = [0, 1, 2]\\nys = [1, 5, 3]\\nsplines = cubic_spline(xs, ys)\\nfor spline in splines:\\n    display(spline)\\n'"
            ],
            "application/vnd.google.colaboratory.intrinsic+json": {
              "type": "string"
            }
          },
          "metadata": {},
          "execution_count": 22
        }
      ],
      "source": [
        "import sympy as sym\n",
        "\n",
        "def cubic_spline(xs: list[float], ys: list[float]) -> list[sym.Symbol]:\n",
        "    \"\"\"\n",
        "    Cubic spline interpolation ``S``. Every two points are interpolated by a cubic polynomial\n",
        "    S_j(x) = a_j + b_j(x - x_j) + c_j(x - x_j)^2 + d_j(x - x_j)^3.\n",
        "\n",
        "    xs must be different but not necessarily ordered nor equally spaced.\n",
        "\n",
        "    Parameters\n",
        "    ----------\n",
        "    xs : list[float]\n",
        "        Points to be interpolated (x-coordinates).\n",
        "    ys : list[float]\n",
        "        Points to be interpolated (y-coordinates).\n",
        "\n",
        "    Returns\n",
        "    -------\n",
        "    list[sym.Symbol]\n",
        "        List of symbolic expressions for the cubic spline interpolation.\n",
        "    \"\"\"\n",
        "\n",
        "    points = sorted(zip(xs, ys), key=lambda x: x[0])  # sort points by x\n",
        "\n",
        "    xs = [x for x, _ in points]\n",
        "    ys = [y for _, y in points]\n",
        "\n",
        "    n = len(points) - 1  # number of splines\n",
        "\n",
        "    h = [xs[i + 1] - xs[i] for i in range(n)]  # distances between contiguous xs\n",
        "\n",
        "    alpha = [0] * (n + 1)\n",
        "    for i in range(1, n):\n",
        "        alpha[i] = 3 / h[i] * (ys[i + 1] - ys[i]) - 3 / h[i - 1] * (ys[i] - ys[i - 1])\n",
        "\n",
        "    l = [1] + [0] * n\n",
        "    u = [0] * (n + 1)\n",
        "    z = [0] * (n + 1)\n",
        "\n",
        "    for i in range(1, n):\n",
        "        l[i] = 2 * (xs[i + 1] - xs[i - 1]) - h[i - 1] * u[i - 1]\n",
        "        u[i] = h[i] / l[i]\n",
        "        z[i] = (alpha[i] - h[i - 1] * z[i - 1]) / l[i]\n",
        "\n",
        "    l[n] = 1\n",
        "    z[n] = 0\n",
        "    c = [0] * (n + 1)\n",
        "\n",
        "    x = sym.Symbol(\"x\")\n",
        "    splines = []\n",
        "    for j in range(n - 1, -1, -1):\n",
        "        c[j] = z[j] - u[j] * c[j + 1]\n",
        "        b = (ys[j + 1] - ys[j]) / h[j] - h[j] * (c[j + 1] + 2 * c[j]) / 3\n",
        "        d = (c[j + 1] - c[j]) / (3 * h[j])\n",
        "        a = ys[j]\n",
        "        print(j, a, b, c[j], d)\n",
        "        S = a + b * (x - xs[j]) + c[j] * (x - xs[j])**2 + d * (x - xs[j])**3\n",
        "\n",
        "        splines.append(S)\n",
        "    splines.reverse()\n",
        "    return splines\n",
        "\"\"\"\n",
        "xs = [0, 1, 2]\n",
        "ys = [1, 5, 3]\n",
        "splines = cubic_spline(xs, ys)\n",
        "for spline in splines:\n",
        "    display(spline)\n",
        "\"\"\"\n"
      ]
    },
    {
      "cell_type": "code",
      "source": [
        "#Ejercicio 1)"
      ],
      "metadata": {
        "id": "aFkVde2RGFMY"
      },
      "execution_count": 25,
      "outputs": []
    },
    {
      "cell_type": "code",
      "source": [
        "xs = [0, 1, 2]\n",
        "ys = [1, 5, 3]\n",
        "\n",
        "splines = cubic_spline(xs=xs, ys=ys)\n",
        "_ = [display(s) for s in splines]\n",
        "print(\"______\")\n",
        "_ = [display(s.expand()) for s in splines]"
      ],
      "metadata": {
        "colab": {
          "base_uri": "https://localhost:8080/",
          "height": 155
        },
        "id": "uoD12X0pBFjX",
        "outputId": "92be197a-d8e2-43ce-c746-265179d37b58"
      },
      "execution_count": 23,
      "outputs": [
        {
          "output_type": "stream",
          "name": "stdout",
          "text": [
            "1 5 1.0 -4.5 1.5\n",
            "0 1 5.5 0.0 -1.5\n"
          ]
        },
        {
          "output_type": "display_data",
          "data": {
            "text/plain": [
              "-1.5*x**3 + 5.5*x + 1"
            ],
            "text/latex": "$\\displaystyle - 1.5 x^{3} + 5.5 x + 1$"
          },
          "metadata": {}
        },
        {
          "output_type": "display_data",
          "data": {
            "text/plain": [
              "1.0*x + 1.5*(x - 1)**3 - 4.5*(x - 1)**2 + 4.0"
            ],
            "text/latex": "$\\displaystyle 1.0 x + 1.5 \\left(x - 1\\right)^{3} - 4.5 \\left(x - 1\\right)^{2} + 4.0$"
          },
          "metadata": {}
        },
        {
          "output_type": "stream",
          "name": "stdout",
          "text": [
            "______\n"
          ]
        },
        {
          "output_type": "display_data",
          "data": {
            "text/plain": [
              "-1.5*x**3 + 5.5*x + 1"
            ],
            "text/latex": "$\\displaystyle - 1.5 x^{3} + 5.5 x + 1$"
          },
          "metadata": {}
        },
        {
          "output_type": "display_data",
          "data": {
            "text/plain": [
              "1.5*x**3 - 9.0*x**2 + 14.5*x - 2.0"
            ],
            "text/latex": "$\\displaystyle 1.5 x^{3} - 9.0 x^{2} + 14.5 x - 2.0$"
          },
          "metadata": {}
        }
      ]
    },
    {
      "cell_type": "code",
      "source": [
        "#Ejercicio 2)"
      ],
      "metadata": {
        "id": "RyMqYN76GISb"
      },
      "execution_count": 26,
      "outputs": []
    },
    {
      "cell_type": "code",
      "source": [
        "import sympy as sym\n",
        "from IPython.display import display\n",
        "\n",
        "def cubic_spline_clamped(xs: list[float], ys: list[float], fpa: float, fpb: float) -> list[sym.Symbol]:\n",
        "    \"\"\"\n",
        "    Cubic spline interpolation ``S`` with clamped boundary conditions. Every two points are interpolated by a cubic polynomial\n",
        "    S_j(x) = a_j + b_j(x - x_j) + c_j(x - x_j)^2 + d_j(x - x_j)^3.\n",
        "\n",
        "    xs must be different but not necessarily ordered nor equally spaced.\n",
        "\n",
        "    Parameters\n",
        "    ----------\n",
        "    xs : list[float]\n",
        "        Points to be interpolated (x-coordinates).\n",
        "    ys : list[float]\n",
        "        Points to be interpolated (y-coordinates).\n",
        "    fpa : float\n",
        "        Derivative of the function at the first point (clamped boundary condition).\n",
        "    fpb : float\n",
        "        Derivative of the function at the last point (clamped boundary condition).\n",
        "\n",
        "    Returns\n",
        "    -------\n",
        "    list[sym.Symbol]\n",
        "        List of symbolic expressions for the cubic spline interpolation.\n",
        "    \"\"\"\n",
        "\n",
        "    points = sorted(zip(xs, ys), key=lambda x: x[0])  # sort points by x\n",
        "\n",
        "    xs = [x for x, _ in points]\n",
        "    ys = [y for _, y in points]\n",
        "\n",
        "    n = len(points) - 1  # number of splines\n",
        "\n",
        "    h = [xs[i + 1] - xs[i] for i in range(n)]  # distances between contiguous xs\n",
        "\n",
        "    alpha = [0] * (n + 1)\n",
        "    alpha[0] = 3 * (ys[1] - ys[0]) / h[0] - 3 * fpa\n",
        "    alpha[n] = 3 * fpb - 3 * (ys[n] - ys[n-1]) / h[n-1]\n",
        "\n",
        "    for i in range(1, n):\n",
        "        alpha[i] = 3 / h[i] * (ys[i + 1] - ys[i]) - 3 / h[i - 1] * (ys[i] - ys[i - 1])\n",
        "\n",
        "    l = [1] + [0] * n\n",
        "    u = [0] * (n + 1)\n",
        "    z = [0] * (n + 1)\n",
        "\n",
        "    for i in range(1, n):\n",
        "        l[i] = 2 * (xs[i + 1] - xs[i - 1]) - h[i - 1] * u[i - 1]\n",
        "        u[i] = h[i] / l[i]\n",
        "        z[i] = (alpha[i] - h[i - 1] * z[i - 1]) / l[i]\n",
        "\n",
        "    l[n] = 1\n",
        "    z[0] = alpha[0] / l[0]\n",
        "    z[n] = alpha[n] / l[n]\n",
        "    c = [0] * (n + 1)\n",
        "\n",
        "    x = sym.Symbol(\"x\")\n",
        "    splines = []\n",
        "    for j in range(n - 1, -1, -1):\n",
        "        c[j] = z[j] - u[j] * c[j + 1]\n",
        "        b = (ys[j + 1] - ys[j]) / h[j] - h[j] * (c[j + 1] + 2 * c[j]) / 3\n",
        "        d = (c[j + 1] - c[j]) / (3 * h[j])\n",
        "        a = ys[j]\n",
        "        print(j, a, b, c[j], d)\n",
        "        S = a + b * (x - xs[j]) + c[j] * (x - xs[j])**2 + d * (x - xs[j])**3\n",
        "\n",
        "        splines.append(S)\n",
        "    splines.reverse()\n",
        "    return splines\n",
        "\n",
        "# Puntos dados\n",
        "xs = [-1, 1]\n",
        "ys = [1, 3]\n",
        "fpa = 1  # Derivada en el primer punto\n",
        "fpb = 2  # Derivada en el último punto\n",
        "\n",
        "# Calcular el spline cúbico\n",
        "splines = cubic_spline_clamped(xs, ys, fpa, fpb)\n",
        "\n",
        "# Mostrar los polinomios resultantes\n",
        "for spline in splines:\n",
        "    display(spline)\n"
      ],
      "metadata": {
        "colab": {
          "base_uri": "https://localhost:8080/",
          "height": 56
        },
        "id": "zQL7hDyJFD8E",
        "outputId": "ca8f0f2d-c75a-4ef9-cc6a-e47f56cf63dd"
      },
      "execution_count": 24,
      "outputs": [
        {
          "output_type": "stream",
          "name": "stdout",
          "text": [
            "0 1 1.0 0.0 0.0\n"
          ]
        },
        {
          "output_type": "display_data",
          "data": {
            "text/plain": [
              "1.0*x + 2.0"
            ],
            "text/latex": "$\\displaystyle 1.0 x + 2.0$"
          },
          "metadata": {}
        }
      ]
    },
    {
      "cell_type": "code",
      "source": [
        "#Ejercicio 3)"
      ],
      "metadata": {
        "id": "IORsSj95GLZz"
      },
      "execution_count": null,
      "outputs": []
    },
    {
      "cell_type": "code",
      "source": [
        "import sympy as sym\n",
        "from IPython.display import display\n",
        "\n",
        "def cubic_spline(xs: list[float], ys: list[float]) -> list[sym.Symbol]:\n",
        "    \"\"\"\n",
        "    Cubic spline interpolation ``S``. Every two points are interpolated by a cubic polynomial\n",
        "    ``S_j`` of the form ``S_j(x) = a_j + b_j(x - x_j) + c_j(x - x_j)^2 + d_j(x - x_j)^3.``\n",
        "\n",
        "    xs must be different but not necessarily ordered nor equally spaced.\n",
        "\n",
        "    ## Parameters\n",
        "    - xs, ys: points to be interpolated\n",
        "\n",
        "    ## Return\n",
        "    - List of symbolic expressions for the cubic spline interpolation.\n",
        "    \"\"\"\n",
        "\n",
        "    # Sort points by x values\n",
        "    points = sorted(zip(xs, ys), key=lambda x: x[0])\n",
        "\n",
        "    # Separate the sorted points into xs and ys\n",
        "    xs = [x for x, _ in points]\n",
        "    ys = [y for _, y in points]\n",
        "\n",
        "    n = len(points) - 1  # Number of splines\n",
        "\n",
        "    # Calculate the distances between contiguous xs\n",
        "    h = [xs[i + 1] - xs[i] for i in range(n)]\n",
        "\n",
        "    # Calculate alpha values\n",
        "    alpha = [0] * (n + 1)\n",
        "    for i in range(1, n):\n",
        "        alpha[i] = (3 / h[i]) * (ys[i + 1] - ys[i]) - (3 / h[i - 1]) * (ys[i] - ys[i - 1])\n",
        "\n",
        "    # Initialize l, u, and z\n",
        "    l = [1] * (n + 1)\n",
        "    u = [0] * (n + 1)\n",
        "    z = [0] * (n + 1)\n",
        "\n",
        "    # Calculate l, u, and z\n",
        "    for i in range(1, n):\n",
        "        l[i] = 2 * (xs[i + 1] - xs[i - 1]) - h[i - 1] * u[i - 1]\n",
        "        u[i] = h[i] / l[i]\n",
        "        z[i] = (alpha[i] - h[i - 1] * z[i - 1]) / l[i]\n",
        "\n",
        "    # Initialize c, b, d, and a\n",
        "    l[n] = 1\n",
        "    z[n] = 0\n",
        "    c = [0] * (n + 1)\n",
        "    b = [0] * n\n",
        "    d = [0] * n\n",
        "    a = [0] * n\n",
        "\n",
        "    x = sym.Symbol(\"x\")\n",
        "    splines = []\n",
        "\n",
        "    # Calculate the coefficients for each spline\n",
        "    for j in range(n - 1, -1, -1):\n",
        "        c[j] = z[j] - u[j] * c[j + 1]\n",
        "        b[j] = (ys[j + 1] - ys[j]) / h[j] - h[j] * (c[j + 1] + 2 * c[j]) / 3\n",
        "        d[j] = (c[j + 1] - c[j]) / (3 * h[j])\n",
        "        a[j] = ys[j]\n",
        "        print(j, a[j], b[j], c[j], d[j])\n",
        "        S_j = a[j] + b[j] * (x - xs[j]) + c[j] * (x - xs[j])**2 + d[j] * (x - xs[j])**3\n",
        "        splines.append(S_j)\n",
        "\n",
        "    splines.reverse()\n",
        "    return splines\n",
        "\n",
        "# Example usage\n",
        "xs = [0, 1, 2, 3, 4]\n",
        "ys = [1, 2, 0, 2, 1]\n",
        "splines = cubic_spline(xs, ys)\n",
        "for spline in splines:\n",
        "    display(spline)\n"
      ],
      "metadata": {
        "colab": {
          "base_uri": "https://localhost:8080/",
          "height": 174
        },
        "id": "mQtgoG1mGQ_u",
        "outputId": "b78fec48-27c9-4ccb-dfa2-cf4d0af2157b"
      },
      "execution_count": 27,
      "outputs": [
        {
          "output_type": "stream",
          "name": "stdout",
          "text": [
            "3 2 1.285714285714286 -3.428571428571429 1.142857142857143\n",
            "2 0 0.0 4.714285714285714 -2.714285714285714\n",
            "1 2 -1.2857142857142856 -3.428571428571429 2.714285714285714\n",
            "0 1 2.1428571428571432 0.0 -1.142857142857143\n"
          ]
        },
        {
          "output_type": "display_data",
          "data": {
            "text/plain": [
              "-1.14285714285714*x**3 + 2.14285714285714*x + 1"
            ],
            "text/latex": "$\\displaystyle - 1.14285714285714 x^{3} + 2.14285714285714 x + 1$"
          },
          "metadata": {}
        },
        {
          "output_type": "display_data",
          "data": {
            "text/plain": [
              "-1.28571428571429*x + 2.71428571428571*(x - 1)**3 - 3.42857142857143*(x - 1)**2 + 3.28571428571429"
            ],
            "text/latex": "$\\displaystyle - 1.28571428571429 x + 2.71428571428571 \\left(x - 1\\right)^{3} - 3.42857142857143 \\left(x - 1\\right)^{2} + 3.28571428571429$"
          },
          "metadata": {}
        },
        {
          "output_type": "display_data",
          "data": {
            "text/plain": [
              "-2.71428571428571*(x - 2)**3 + 4.71428571428571*(x - 2)**2"
            ],
            "text/latex": "$\\displaystyle - 2.71428571428571 \\left(x - 2\\right)^{3} + 4.71428571428571 \\left(x - 2\\right)^{2}$"
          },
          "metadata": {}
        },
        {
          "output_type": "display_data",
          "data": {
            "text/plain": [
              "1.28571428571429*x + 1.14285714285714*(x - 3)**3 - 3.42857142857143*(x - 3)**2 - 1.85714285714286"
            ],
            "text/latex": "$\\displaystyle 1.28571428571429 x + 1.14285714285714 \\left(x - 3\\right)^{3} - 3.42857142857143 \\left(x - 3\\right)^{2} - 1.85714285714286$"
          },
          "metadata": {}
        }
      ]
    },
    {
      "cell_type": "code",
      "source": [
        "#Ejercicio 4)"
      ],
      "metadata": {
        "id": "yX77jirdJ3lD"
      },
      "execution_count": null,
      "outputs": []
    },
    {
      "cell_type": "code",
      "source": [
        "import sympy as sym\n",
        "from IPython.display import display\n",
        "\n",
        "def cubic_spline(xs: list[float], ys: list[float]) -> list[sym.Symbol]:\n",
        "    \"\"\"\n",
        "    Cubic spline interpolation ``S``. Every two points are interpolated by a cubic polynomial\n",
        "    ``S_j`` of the form ``S_j(x) = a_j + b_j(x - x_j) + c_j(x - x_j)^2 + d_j(x - x_j)^3.``\n",
        "\n",
        "    xs must be different but not necessarily ordered nor equally spaced.\n",
        "\n",
        "    ## Parameters\n",
        "    - xs, ys: points to be interpolated\n",
        "\n",
        "    ## Return\n",
        "    - List of symbolic expressions for the cubic spline interpolation.\n",
        "    \"\"\"\n",
        "\n",
        "    n = len(xs) - 1  # number of splines\n",
        "\n",
        "    # Step 1: Calculate the differences h and alphas\n",
        "    h = [xs[i+1] - xs[i] for i in range(n)]\n",
        "    alpha = [0] * (n + 1)\n",
        "    for i in range(1, n):\n",
        "        alpha[i] = (3 / h[i]) * (ys[i+1] - ys[i]) - (3 / h[i-1]) * (ys[i] - ys[i-1])\n",
        "\n",
        "    # Step 2: Solve the system of equations to find c\n",
        "    l = [1] + [0] * n\n",
        "    mu = [0] * (n + 1)\n",
        "    z = [0] * (n + 1)\n",
        "\n",
        "    for i in range(1, n):\n",
        "        l[i] = 2 * (xs[i+1] - xs[i-1]) - h[i-1] * mu[i-1]\n",
        "        mu[i] = h[i] / l[i]\n",
        "        z[i] = (alpha[i] - h[i-1] * z[i-1]) / l[i]\n",
        "\n",
        "    l[n] = 1\n",
        "    z[n] = 0\n",
        "    c = [0] * (n + 1)\n",
        "    b = [0] * n\n",
        "    d = [0] * n\n",
        "    a = [ys[i] for i in range(n)]\n",
        "\n",
        "    for j in range(n-1, -1, -1):\n",
        "        c[j] = z[j] - mu[j] * c[j+1]\n",
        "        b[j] = (ys[j+1] - ys[j]) / h[j] - h[j] * (c[j+1] + 2 * c[j]) / 3\n",
        "        d[j] = (c[j+1] - c[j]) / (3 * h[j])\n",
        "        a[j] = ys[j]\n",
        "\n",
        "    # Step 3: Build the spline functions\n",
        "    x = sym.Symbol('x')\n",
        "    splines = []\n",
        "    for j in range(n):\n",
        "        S_j = a[j] + b[j] * (x - xs[j]) + c[j] * (x - xs[j])**2 + d[j] * (x - xs[j])**3\n",
        "        splines.append(S_j)\n",
        "\n",
        "    return splines\n",
        "\n",
        "# Aplicación con xs = [1, 2, 3] y ys = [2, 3, 5]\n",
        "xs = [1, 2, 3]\n",
        "ys = [2, 3, 5]\n",
        "splines = cubic_spline(xs, ys)\n",
        "for spline in splines:\n",
        "    display(spline)"
      ],
      "metadata": {
        "colab": {
          "base_uri": "https://localhost:8080/",
          "height": 61
        },
        "id": "yuHMFpxtJ35W",
        "outputId": "148a5ca3-a9b6-4ed5-dc0f-5613b5b49734"
      },
      "execution_count": 31,
      "outputs": [
        {
          "output_type": "display_data",
          "data": {
            "text/plain": [
              "0.75*x + 0.25*(x - 1)**3 + 1.25"
            ],
            "text/latex": "$\\displaystyle 0.75 x + 0.25 \\left(x - 1\\right)^{3} + 1.25$"
          },
          "metadata": {}
        },
        {
          "output_type": "display_data",
          "data": {
            "text/plain": [
              "1.5*x - 0.25*(x - 2)**3 + 0.75*(x - 2)**2"
            ],
            "text/latex": "$\\displaystyle 1.5 x - 0.25 \\left(x - 2\\right)^{3} + 0.75 \\left(x - 2\\right)^{2}$"
          },
          "metadata": {}
        }
      ]
    },
    {
      "cell_type": "code",
      "source": [
        "#Ejercicio 5)"
      ],
      "metadata": {
        "id": "uYo-jVo_KFkc"
      },
      "execution_count": null,
      "outputs": []
    },
    {
      "cell_type": "code",
      "source": [
        "import sympy as sym\n",
        "from IPython.display import display\n",
        "\n",
        "def cubic_spline(xs: list[float], ys: list[float]) -> list[sym.Symbol]:\n",
        "    \"\"\"\n",
        "    Cubic spline interpolation ``S``. Every two points are interpolated by a cubic polynomial\n",
        "    ``S_j`` of the form ``S_j(x) = a_j + b_j(x - x_j) + c_j(x - x_j)^2 + d_j(x - x_j)^3.``\n",
        "\n",
        "    xs must be different but not necessarily ordered nor equally spaced.\n",
        "\n",
        "    ## Parameters\n",
        "    - xs, ys: points to be interpolated\n",
        "\n",
        "    ## Return\n",
        "    - List of symbolic expressions for the cubic spline interpolation.\n",
        "    \"\"\"\n",
        "\n",
        "    n = len(xs) - 1  # number of splines\n",
        "\n",
        "    # Step 1: Calculate the differences h and alphas\n",
        "    h = [xs[i+1] - xs[i] for i in range(n)]\n",
        "    alpha = [0] * (n + 1)\n",
        "    for i in range(1, n):\n",
        "        alpha[i] = (3 / h[i]) * (ys[i+1] - ys[i]) - (3 / h[i-1]) * (ys[i] - ys[i-1])\n",
        "\n",
        "    # Step 2: Solve the system of equations to find c\n",
        "    l = [1] + [0] * n\n",
        "    mu = [0] * (n + 1)\n",
        "    z = [0] * (n + 1)\n",
        "\n",
        "    for i in range(1, n):\n",
        "        l[i] = 2 * (xs[i+1] - xs[i-1]) - h[i-1] * mu[i-1]\n",
        "        mu[i] = h[i] / l[i]\n",
        "        z[i] = (alpha[i] - h[i-1] * z[i-1]) / l[i]\n",
        "\n",
        "    l[n] = 1\n",
        "    z[n] = 0\n",
        "    c = [0] * (n + 1)\n",
        "    b = [0] * n\n",
        "    d = [0] * n\n",
        "    a = [ys[i] for i in range(n)]\n",
        "\n",
        "    for j in range(n-1, -1, -1):\n",
        "        c[j] = z[j] - mu[j] * c[j+1]\n",
        "        b[j] = (ys[j+1] - ys[j]) / h[j] - h[j] * (c[j+1] + 2 * c[j]) / 3\n",
        "        d[j] = (c[j+1] - c[j]) / (3 * h[j])\n",
        "        a[j] = ys[j]\n",
        "\n",
        "    # Step 3: Build the spline functions\n",
        "    x = sym.Symbol('x')\n",
        "    splines = []\n",
        "    for j in range(n):\n",
        "        S_j = a[j] + b[j] * (x - xs[j]) + c[j] * (x - xs[j])**2 + d[j] * (x - xs[j])**3\n",
        "        splines.append(S_j)\n",
        "\n",
        "    return splines\n",
        "\n",
        "# Aplicación con xs = [0, 1, 2, 3] y ys = [-1, 1, 5, 2]\n",
        "xs = [0, 1, 2, 3]\n",
        "ys = [-1, 1, 5, 2]\n",
        "splines = cubic_spline(xs, ys)\n",
        "for spline in splines:\n",
        "    display(spline)\n"
      ],
      "metadata": {
        "colab": {
          "base_uri": "https://localhost:8080/",
          "height": 83
        },
        "id": "hYZWVDZUKFzS",
        "outputId": "2c84465b-ccd6-4394-ee5e-3f8afa749ee8"
      },
      "execution_count": 30,
      "outputs": [
        {
          "output_type": "display_data",
          "data": {
            "text/plain": [
              "1.0*x**3 + 1.0*x - 1"
            ],
            "text/latex": "$\\displaystyle 1.0 x^{3} + 1.0 x - 1$"
          },
          "metadata": {}
        },
        {
          "output_type": "display_data",
          "data": {
            "text/plain": [
              "4.0*x - 3.0*(x - 1)**3 + 3.0*(x - 1)**2 - 3.0"
            ],
            "text/latex": "$\\displaystyle 4.0 x - 3.0 \\left(x - 1\\right)^{3} + 3.0 \\left(x - 1\\right)^{2} - 3.0$"
          },
          "metadata": {}
        },
        {
          "output_type": "display_data",
          "data": {
            "text/plain": [
              "1.0*x + 2.0*(x - 2)**3 - 6.0*(x - 2)**2 + 3.0"
            ],
            "text/latex": "$\\displaystyle 1.0 x + 2.0 \\left(x - 2\\right)^{3} - 6.0 \\left(x - 2\\right)^{2} + 3.0$"
          },
          "metadata": {}
        }
      ]
    },
    {
      "cell_type": "code",
      "source": [
        "#Frontera Condicionada"
      ],
      "metadata": {
        "id": "eXp2agd6GLw4"
      },
      "execution_count": null,
      "outputs": []
    },
    {
      "cell_type": "code",
      "source": [
        "import sympy as sym\n",
        "import matplotlib.pyplot as plt\n",
        "import numpy as np\n",
        "\n",
        "# La función cubic_spline_clamped tal como se proporciona\n",
        "def cubic_spline_clamped(xs, ys, d0, dn):\n",
        "    points = sorted(zip(xs, ys), key=lambda x: x[0])  # sort points by x\n",
        "    xs = [x for x, _ in points]\n",
        "    ys = [y for _, y in points]\n",
        "    n = len(points) - 1  # number of splines\n",
        "    h = [xs[i + 1] - xs[i] for i in range(n)]  # distances between  contiguous xs\n",
        "\n",
        "    alpha = [0] * (n + 1)  # prealloc\n",
        "    alpha[0] = 3 / h[0] * (ys[1] - ys[0]) - 3 * d0\n",
        "    alpha[-1] = 3 * dn - 3 / h[n - 1] * (ys[n] - ys[n - 1])\n",
        "\n",
        "    for i in range(1, n):\n",
        "        alpha[i] = 3 / h[i] * (ys[i + 1] - ys[i]) - 3 / h[i - 1] * (ys[i] - ys[i - 1])\n",
        "\n",
        "    l = [2 * h[0]]\n",
        "    u = [0.5]\n",
        "    z = [alpha[0] / l[0]]\n",
        "\n",
        "    for i in range(1, n):\n",
        "        l += [2 * (xs[i + 1] - xs[i - 1]) - h[i - 1] * u[i - 1]]\n",
        "        u += [h[i] / l[i]]\n",
        "        z += [(alpha[i] - h[i - 1] * z[i - 1]) / l[i]]\n",
        "\n",
        "    l.append(h[n - 1] * (2 - u[n - 1]))\n",
        "    z.append((alpha[n] - h[n - 1] * z[n - 1]) / l[n])\n",
        "    c = [0] * (n + 1)  # prealloc\n",
        "    c[-1] = z[-1]\n",
        "\n",
        "    x = sym.Symbol(\"x\")\n",
        "    splines = []\n",
        "    for j in range(n - 1, -1, -1):\n",
        "        c[j] = z[j] - u[j] * c[j + 1]\n",
        "        b = (ys[j + 1] - ys[j]) / h[j] - h[j] * (c[j + 1] + 2 * c[j]) / 3\n",
        "        d = (c[j + 1] - c[j]) / (3 * h[j])\n",
        "        a = ys[j]\n",
        "        S = a + b * (x - xs[j]) + c[j] * (x - xs[j]) ** 2 + d * (x - xs[j]) ** 3\n",
        "\n",
        "        splines.append(S)\n",
        "    splines.reverse()\n",
        "    return splines\n",
        "\n",
        "# Datos de la tabla\n",
        "curves = {\n",
        "    \"Curva 1\": {\n",
        "        \"x\": [1, 2, 3, 6, 8, 10, 13, 17],\n",
        "        \"y\": [3.0, 3.7, 3.9, 4.2, 5.7, 6.6, 7.1, 4.5],\n",
        "        \"d0\": 1.0,\n",
        "        \"dn\": -0.67\n",
        "    },\n",
        "    \"Curva 2\": {\n",
        "        \"x\": [17, 20, 23, 24, 25, 27, 27.7],\n",
        "        \"y\": [4.5, 7.0, 6.1, 5.6, 5.8, 5.2, 4.1],\n",
        "        \"d0\": 3.0,\n",
        "        \"dn\": -4.0\n",
        "    },\n",
        "    \"Curva 3\": {\n",
        "        \"x\": [27.7, 28, 29, 30],\n",
        "        \"y\": [3.0, 4.1, 4.3, 3.0],\n",
        "        \"d0\": 0.33,\n",
        "        \"dn\": -1.5\n",
        "    }\n",
        "}\n",
        "\n",
        "# Datos\n",
        "fig, ax = plt.subplots(figsize=(10, 6))\n",
        "\n",
        "x = sym.Symbol(\"x\")\n",
        "for label, data in curves.items():\n",
        "    xs = data[\"x\"]\n",
        "    ys = data[\"y\"]\n",
        "    d0 = data[\"d0\"]\n",
        "    dn = data[\"dn\"]\n",
        "\n",
        "    splines = cubic_spline_clamped(xs, ys, d0, dn)\n",
        "\n",
        "    # Graficar puntos originales\n",
        "    ax.plot(xs, ys, 'o', label=f'{label} Points')\n",
        "\n",
        "    # Graficar las splines\n",
        "    for S, (x0, x1) in zip(splines, zip(xs, xs[1:])):\n",
        "        spline_func = sym.lambdify(x, S)\n",
        "        x_vals = np.linspace(x0, x1, 100)\n",
        "        y_vals = spline_func(x_vals)\n",
        "        ax.plot(x_vals, y_vals, label=f'{label} Spline')\n",
        "\n",
        "ax.set_xlabel('x')\n",
        "ax.set_ylabel('f(x)')\n",
        "ax.legend()\n",
        "ax.grid(True)\n",
        "plt.show()"
      ],
      "metadata": {
        "colab": {
          "base_uri": "https://localhost:8080/",
          "height": 542
        },
        "id": "y8DL8bNqCrgv",
        "outputId": "053c10c1-51c5-424e-8dd6-83182220a955"
      },
      "execution_count": 37,
      "outputs": [
        {
          "output_type": "display_data",
          "data": {
            "text/plain": [
              "<Figure size 1000x600 with 1 Axes>"
            ],
            "image/png": "[encoded data removed]"
          },
          "metadata": {}
        }
      ]
    }
  ]
}
