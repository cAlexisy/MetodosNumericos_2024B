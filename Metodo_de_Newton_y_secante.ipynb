{
  "nbformat": 4,
  "nbformat_minor": 0,
  "metadata": {
    "colab": {
      "provenance": []
    },
    "kernelspec": {
      "name": "python3",
      "display_name": "Python 3"
    },
    "language_info": {
      "name": "python"
    }
  },
  "cells": [
    {
      "cell_type": "code",
      "execution_count": 2,
      "metadata": {
        "id": "UHnt0o1NA-fn"
      },
      "outputs": [],
      "source": [
        "from scipy.optimize import newton\n",
        "import math"
      ]
    },
    {
      "cell_type": "code",
      "source": [
        "#Ejercicio 1"
      ],
      "metadata": {
        "id": "wc3VIsl2dAdU"
      },
      "execution_count": null,
      "outputs": []
    },
    {
      "cell_type": "code",
      "source": [
        "def f(x):\n",
        "    print(x)\n",
        "    return x**3 - 3*x**2 + x - 1\n",
        "\n",
        "x0 = 2\n",
        "r = newton(func=f, x0=x0, full_output=True)\n",
        "\n",
        "def fprime(x):\n",
        "    return -3*x**2 + math.sin(x)\n",
        "\n",
        "p1 = newton(func=lambda x: -x**3 - math.cos(x), x0=-1, fprime=fprime)\n",
        "print(p1)"
      ],
      "metadata": {
        "colab": {
          "base_uri": "https://localhost:8080/"
        },
        "id": "1utdsx6OcqJF",
        "outputId": "ed1920f7-7c97-4a9d-f762-ab4648989709"
      },
      "execution_count": 10,
      "outputs": [
        {
          "output_type": "stream",
          "name": "stdout",
          "text": [
            "2.0\n",
            "2.0003\n",
            "4.997302158318246\n",
            "2.1580967120216736\n",
            "2.296599159601208\n",
            "3.2527990359331214\n",
            "2.6109559209262465\n",
            "2.722918859386018\n",
            "2.7752033106321243\n",
            "2.7690912126788088\n",
            "2.7692915029946037\n",
            "2.769292354361604\n",
            "-0.8654740331016144\n"
          ]
        }
      ]
    },
    {
      "cell_type": "code",
      "source": [
        "#Ejercicio 2"
      ],
      "metadata": {
        "id": "AQ92afw8elYM"
      },
      "execution_count": null,
      "outputs": []
    },
    {
      "cell_type": "code",
      "source": [
        "#Literal a\n",
        "p1 = newton(func = lambda x : x**3 - 2*x**2 - 5, x0 = 1, tol = 10e-4, x1 = 4)\n",
        "print(p1)\n",
        "\n",
        "#Literal b\n",
        "p1 = newton(func = lambda x : x**3 + 3*x**2 - 1, x0 = -3, tol = 10e-4, x1 = -2)\n",
        "print(p1)\n",
        "\n",
        "#Literal c\n",
        "p1 = newton(func = lambda x : x - math.cos(x), x0 = 0, tol = 10e-4, x1 = math.pi/2)\n",
        "print(p1)\n",
        "\n",
        "#Literal d\n",
        "p1 = newton(func = lambda x : x - 0.8 - 0.2*math.sin(x), x0 = 0, tol = 10e-4, x1 = math.pi/2)\n",
        "print(p1)"
      ],
      "metadata": {
        "colab": {
          "base_uri": "https://localhost:8080/"
        },
        "id": "lLjJVxPXdDhk",
        "outputId": "ee1f18c2-4168-475b-c39d-66f74d48cab1"
      },
      "execution_count": 11,
      "outputs": [
        {
          "output_type": "stream",
          "name": "stdout",
          "text": [
            "2.6906484961992585\n",
            "-2.879385194736809\n",
            "0.7390834365030763\n",
            "0.9643338835706312\n"
          ]
        }
      ]
    },
    {
      "cell_type": "code",
      "source": [
        "#Ejercicio 3"
      ],
      "metadata": {
        "id": "wqCUl_aAem5l"
      },
      "execution_count": null,
      "outputs": []
    },
    {
      "cell_type": "code",
      "source": [
        "#Literal a\n",
        "p1 = newton(func = lambda x : 3*x - math.exp(x), x0 = 1,\n",
        "            fprime = lambda x : 3 - math.exp(x), tol = 10e-5, x1 = 2)\n",
        "print(p1)\n",
        "p1 = newton(func = lambda x : 3*x - math.exp(x), x0 = 1, tol = 10e-5, x1 = 2)\n",
        "print(p1)\n",
        "\n",
        "#Literal b\n",
        "p1 = newton(func = lambda x : 2*x + 3*math.cos(x) - math.exp(x),\n",
        "            x0 = 1,\n",
        "            fprime = lambda x : 2 - 3*math.sin(x) - math.exp(x),\n",
        "            tol = 10e-5, x1 = 2)\n",
        "print(p1)\n",
        "p1 = newton(func = lambda x : 2*x + 3*math.cos(x) - math.exp(x), x0 = 1, tol = 10e-5, x1 = 2)\n",
        "print(p1)"
      ],
      "metadata": {
        "colab": {
          "base_uri": "https://localhost:8080/"
        },
        "id": "KbPVqJiKeoIq",
        "outputId": "98ec3cee-71a5-499a-ebb6-77ce926aef27"
      },
      "execution_count": 12,
      "outputs": [
        {
          "output_type": "stream",
          "name": "stdout",
          "text": [
            "0.6190612833553127\n",
            "1.5121345517620621\n",
            "1.2397146979752596\n",
            "1.2397146920815107\n"
          ]
        }
      ]
    },
    {
      "cell_type": "code",
      "source": [
        "#Ejercicio 4"
      ],
      "metadata": {
        "id": "91jIlDt4epJE"
      },
      "execution_count": null,
      "outputs": []
    },
    {
      "cell_type": "code",
      "source": [
        "#Método de la secante\n",
        "p1 = newton(func = lambda x : 230*x**4 + 18*x**3 + 9*x**2 - 221*x - 9,\n",
        "            x0 = -1, tol = 10e-6, x1 = 0)\n",
        "print(p1)\n",
        "p1 = newton(func = lambda x : 230*x**4 + 18*x**3 + 9*x**2 - 221*x - 9,\n",
        "            x0 = 0.9, tol = 10e-6)\n",
        "print(p1)\n",
        "\n",
        "#Método de Newton\n",
        "p1 = newton(func = lambda x : 230*x**4 + 18*x**3 + 9*x**2 - 221*x - 9,\n",
        "            x0 = -0.5,\n",
        "            fprime = lambda x : 920*x**3 + 54*x**2 + 18*x -221,\n",
        "            tol = 10e-6)\n",
        "print(p1)\n",
        "p1 = newton(func = lambda x : 230*x**4 + 18*x**3 + 9*x**2 - 221*x - 9,\n",
        "            x0 = 0.9,\n",
        "            fprime = lambda x : 920*x**3 + 54*x**2 + 18*x -221,\n",
        "            tol = 10e-6)\n",
        "print(p1)"
      ],
      "metadata": {
        "colab": {
          "base_uri": "https://localhost:8080/"
        },
        "id": "edQU9yI0es6_",
        "outputId": "fb5d51f7-1edd-4f9b-8a08-baada8d5ed68"
      },
      "execution_count": 13,
      "outputs": [
        {
          "output_type": "stream",
          "name": "stdout",
          "text": [
            "-0.04065928497591696\n",
            "0.9623984187477349\n",
            "-0.04065928831575899\n",
            "0.9623984187505487\n"
          ]
        }
      ]
    },
    {
      "cell_type": "code",
      "source": [
        "#Ejercicio 5"
      ],
      "metadata": {
        "id": "-ItaZtb_et29"
      },
      "execution_count": null,
      "outputs": []
    },
    {
      "cell_type": "code",
      "source": [
        "import math\n",
        "from scipy.optimize import newton\n",
        "from typing import Callable\n",
        "def sign(x: float) -> int:\n",
        "    if x > 0:\n",
        "        return 1\n",
        "    elif x < 0:\n",
        "        return -1\n",
        "    else:\n",
        "        return 0\n",
        "\n",
        "def bisection(\n",
        "    a: float, b: float, *, equation: Callable[[float], float], N: int\n",
        ") -> tuple[float, int] | None:\n",
        "    i = 1\n",
        "    assert a < b, \"a not lower than b, the interval is not valid.\"\n",
        "    assert (\n",
        "        equation(a) * equation(b) < 0\n",
        "    ), \"The function does not change sign over the interval.\"\n",
        "    Fa = equation(a)\n",
        "    p = a\n",
        "    for i in range(N + 1):\n",
        "        p = a + (b - a) / 2\n",
        "        FP = equation(p)\n",
        "        if sign(Fa) * sign(FP) > 0:\n",
        "            a = p\n",
        "            Fa = FP\n",
        "        else:\n",
        "            b = p\n",
        "    return p, i\n",
        "\n",
        "p, i = bisection(a=0, b=0.48,\n",
        "                equation=lambda x: math.tan(math.pi * x) - 6,\n",
        "                N=10)\n",
        "print(f\"Raíz resultante: {p} en {i} iteraciones\")\n",
        "#Secante\n",
        "p1 = newton(func=lambda x: math.tan(math.pi*x) - 6,\n",
        "            x0=0,\n",
        "            fprime=lambda x: math.pi*(1/math.cos(math.pi*x))**2,\n",
        "            maxiter=10,\n",
        "            x1=0.48)\n",
        "print(p1)\n",
        "#Newton\n",
        "p1 = newton(func=lambda x: math.tan(math.pi*x) - 6,\n",
        "            x0=0,\n",
        "            fprime=lambda x: math.pi*(1/math.cos(math.pi*x))**2,\n",
        "            maxiter=10,\n",
        "            x1=0.48)\n",
        "print(p1)"
      ],
      "metadata": {
        "colab": {
          "base_uri": "https://localhost:8080/",
          "height": 349
        },
        "id": "-TRRgARXevb7",
        "outputId": "a1d2d4eb-48c7-45e1-f383-db32d329644d"
      },
      "execution_count": 16,
      "outputs": [
        {
          "output_type": "stream",
          "name": "stdout",
          "text": [
            "Raíz resultante: 0.44742187499999997 en 10 iteraciones\n"
          ]
        },
        {
          "output_type": "error",
          "ename": "RuntimeError",
          "evalue": "Failed to converge after 10 iterations, value is 13.655012218324751.",
          "traceback": [
            "\u001b[0;31m---------------------------------------------------------------------------\u001b[0m",
            "\u001b[0;31mRuntimeError\u001b[0m                              Traceback (most recent call last)",
            "\u001b[0;32m<ipython-input-16-a00357e1b35c>\u001b[0m in \u001b[0;36m<cell line: 37>\u001b[0;34m()\u001b[0m\n\u001b[1;32m     35\u001b[0m \u001b[0mprint\u001b[0m\u001b[0;34m(\u001b[0m\u001b[0;34mf\"Raíz resultante: {p} en {i} iteraciones\"\u001b[0m\u001b[0;34m)\u001b[0m\u001b[0;34m\u001b[0m\u001b[0;34m\u001b[0m\u001b[0m\n\u001b[1;32m     36\u001b[0m \u001b[0;31m#Secante\u001b[0m\u001b[0;34m\u001b[0m\u001b[0;34m\u001b[0m\u001b[0m\n\u001b[0;32m---> 37\u001b[0;31m p1 = newton(func=lambda x: math.tan(math.pi*x) - 6,\n\u001b[0m\u001b[1;32m     38\u001b[0m             \u001b[0mx0\u001b[0m\u001b[0;34m=\u001b[0m\u001b[0;36m0\u001b[0m\u001b[0;34m,\u001b[0m\u001b[0;34m\u001b[0m\u001b[0;34m\u001b[0m\u001b[0m\n\u001b[1;32m     39\u001b[0m             \u001b[0mfprime\u001b[0m\u001b[0;34m=\u001b[0m\u001b[0;32mlambda\u001b[0m \u001b[0mx\u001b[0m\u001b[0;34m:\u001b[0m \u001b[0mmath\u001b[0m\u001b[0;34m.\u001b[0m\u001b[0mpi\u001b[0m\u001b[0;34m*\u001b[0m\u001b[0;34m(\u001b[0m\u001b[0;36m1\u001b[0m\u001b[0;34m/\u001b[0m\u001b[0mmath\u001b[0m\u001b[0;34m.\u001b[0m\u001b[0mcos\u001b[0m\u001b[0;34m(\u001b[0m\u001b[0mmath\u001b[0m\u001b[0;34m.\u001b[0m\u001b[0mpi\u001b[0m\u001b[0;34m*\u001b[0m\u001b[0mx\u001b[0m\u001b[0;34m)\u001b[0m\u001b[0;34m)\u001b[0m\u001b[0;34m**\u001b[0m\u001b[0;36m2\u001b[0m\u001b[0;34m,\u001b[0m\u001b[0;34m\u001b[0m\u001b[0;34m\u001b[0m\u001b[0m\n",
            "\u001b[0;32m/usr/local/lib/python3.10/dist-packages/scipy/optimize/_zeros_py.py\u001b[0m in \u001b[0;36mnewton\u001b[0;34m(func, x0, fprime, args, tol, maxiter, fprime2, x1, rtol, full_output, disp)\u001b[0m\n\u001b[1;32m    382\u001b[0m         msg = (\"Failed to converge after %d iterations, value is %s.\"\n\u001b[1;32m    383\u001b[0m                % (itr + 1, p))\n\u001b[0;32m--> 384\u001b[0;31m         \u001b[0;32mraise\u001b[0m \u001b[0mRuntimeError\u001b[0m\u001b[0;34m(\u001b[0m\u001b[0mmsg\u001b[0m\u001b[0;34m)\u001b[0m\u001b[0;34m\u001b[0m\u001b[0;34m\u001b[0m\u001b[0m\n\u001b[0m\u001b[1;32m    385\u001b[0m \u001b[0;34m\u001b[0m\u001b[0m\n\u001b[1;32m    386\u001b[0m     \u001b[0;32mreturn\u001b[0m \u001b[0m_results_select\u001b[0m\u001b[0;34m(\u001b[0m\u001b[0mfull_output\u001b[0m\u001b[0;34m,\u001b[0m \u001b[0;34m(\u001b[0m\u001b[0mp\u001b[0m\u001b[0;34m,\u001b[0m \u001b[0mfuncalls\u001b[0m\u001b[0;34m,\u001b[0m \u001b[0mitr\u001b[0m \u001b[0;34m+\u001b[0m \u001b[0;36m1\u001b[0m\u001b[0;34m,\u001b[0m \u001b[0m_ECONVERR\u001b[0m\u001b[0;34m)\u001b[0m\u001b[0;34m)\u001b[0m\u001b[0;34m\u001b[0m\u001b[0;34m\u001b[0m\u001b[0m\n",
            "\u001b[0;31mRuntimeError\u001b[0m: Failed to converge after 10 iterations, value is 13.655012218324751."
          ]
        }
      ]
    },
    {
      "cell_type": "code",
      "source": [
        "#Ejercicio 6"
      ],
      "metadata": {
        "id": "BPrLsQxkfQMC"
      },
      "execution_count": null,
      "outputs": []
    },
    {
      "cell_type": "code",
      "source": [
        "#Literal a\n",
        "p1 = newton(func = lambda x : math.log(x**2 + 1) - math.exp(0.4*x)*math.cos(math.pi*x),\n",
        "            x0 = -0.4, tol = 10e-6)\n",
        "print(p1)\n",
        "\n",
        "#Literal b\n",
        "p1 = newton(func = lambda x : math.log(x**2 + 1) - math.exp(0.4*x)*math.cos(math.pi*x),\n",
        "            x0 = 0.5, tol = 10e-6)\n",
        "print(p1)\n",
        "p1 = newton(func = lambda x : math.log(x**2 + 1) - math.exp(0.4*x)*math.cos(math.pi*x),\n",
        "            x0 = 1.5, tol = 10e-6)\n",
        "print(p1)\n",
        "p1 = newton(func = lambda x : math.log(x**2 + 1) - math.exp(0.4*x)*math.cos(math.pi*x),\n",
        "            x0 = 2.5, tol = 10e-6)\n",
        "print(p1)\n",
        "p1 = newton(func = lambda x : math.log(x**2 + 1) - math.exp(0.4*x)*math.cos(math.pi*x),\n",
        "            x0 = 3.5, tol = 10e-6)\n",
        "print(p1)"
      ],
      "metadata": {
        "colab": {
          "base_uri": "https://localhost:8080/"
        },
        "id": "vD0MxV29foZW",
        "outputId": "db7f4d5e-301e-4a6f-b912-bbf4dde66977"
      },
      "execution_count": 17,
      "outputs": [
        {
          "output_type": "stream",
          "name": "stdout",
          "text": [
            "-0.43414304724770203\n",
            "0.4506567478906115\n",
            "1.7447380533760186\n",
            "2.2383197950776066\n",
            "3.7090412014166936\n"
          ]
        }
      ]
    },
    {
      "cell_type": "code",
      "source": [
        "#Newton\n",
        "p1 = newton(func=lambda x: x**(1/3),\n",
        "            x0=1,\n",
        "            fprime=lambda x: 1 / (3*x**(2/3)))\n",
        "print(p1)\n",
        "\n",
        "#Secante\n",
        "p1 = newton(func=lambda x: x**(1/3) + 1,\n",
        "            x0=1)\n",
        "print(p1)"
      ],
      "metadata": {
        "id": "MugO8hXoftIR"
      },
      "execution_count": 22,
      "outputs": []
    }
  ]
}
