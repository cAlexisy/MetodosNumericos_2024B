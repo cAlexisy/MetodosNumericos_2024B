{
  "cells": [
    {
      "cell_type": "code",
      "execution_count": 50,
      "metadata": {
        "id": "ZHHBGk61BtOC"
      },
      "outputs": [],
      "source": [
        "#Ejercicio 1"
      ]
    },
    {
      "cell_type": "code",
      "execution_count": 51,
      "metadata": {},
      "outputs": [],
      "source": [
        "import numpy as np\n",
        "from sympy import Matrix, symbols, solve, Eq, N\n",
        "from scipy.linalg import lu\n",
        "from scipy.linalg import lu, lu_solve, lu_factor"
      ]
    },
    {
      "cell_type": "code",
      "execution_count": 52,
      "metadata": {
        "id": "7bjWoB9P-Roz"
      },
      "outputs": [],
      "source": [
        "def matrix_multiplication(A, B):\n",
        "    \"\"\"\n",
        "    Esta función toma dos matrices A y B y devuelve su producto AB.\n",
        "    \"\"\"\n",
        "    A = np.array(A)\n",
        "    B = np.array(B)\n",
        "\n",
        "    if A.shape[1] != B.shape[0]:\n",
        "        raise ValueError(\"El número de columnas de A debe ser igual al número de filas de B\")\n",
        "\n",
        "    return np.dot(A, B)"
      ]
    },
    {
      "cell_type": "code",
      "execution_count": 53,
      "metadata": {
        "colab": {
          "base_uri": "https://localhost:8080/"
        },
        "id": "gEDemJXG_o5v",
        "outputId": "129f7fd8-048c-49a1-b32f-1ff8156daa8e"
      },
      "outputs": [
        {
          "name": "stdout",
          "output_type": "stream",
          "text": [
            "Resultado de a:\n",
            " [[-4 10]\n",
            " [ 1 15]]\n"
          ]
        }
      ],
      "source": [
        "A_a = [[2, -3], [3, -1]]\n",
        "B_a = [[1, 5], [2, 0]]\n",
        "C_a = matrix_multiplication(A_a, B_a)\n",
        "print(\"Resultado de a:\\n\", C_a)"
      ]
    },
    {
      "cell_type": "code",
      "execution_count": 54,
      "metadata": {
        "colab": {
          "base_uri": "https://localhost:8080/",
          "height": 315
        },
        "id": "DRFReyU9BzT3",
        "outputId": "3d2cdf6e-674b-488f-b19c-e3e6c56ffbd3"
      },
      "outputs": [
        {
          "name": "stdout",
          "output_type": "stream",
          "text": [
            "Resultado de b:\n",
            " [[ 11   4  -8]\n",
            " [  6  13 -12]]\n"
          ]
        }
      ],
      "source": [
        "A_b = [[2, -3], [3, -1]]\n",
        "B_b = [[1, 5, -4], [-3, 2, 0]]\n",
        "C_b = matrix_multiplication(A_b, B_b)\n",
        "print(\"Resultado de b:\\n\", C_b)"
      ]
    },
    {
      "cell_type": "code",
      "execution_count": 55,
      "metadata": {
        "colab": {
          "base_uri": "https://localhost:8080/"
        },
        "id": "syh3sxy8_Fjn",
        "outputId": "55f55a57-554b-424b-b1fd-b07a93928371"
      },
      "outputs": [
        {
          "name": "stdout",
          "output_type": "stream",
          "text": [
            "Resultado de c:\n",
            " [[ -1   5  -3]\n",
            " [  3   4 -11]\n",
            " [ -6  -7  -4]]\n"
          ]
        }
      ],
      "source": [
        "A_c = [[2, -3, 1], [4, 3, 0], [5, 2, -4]]\n",
        "B_c = [[0, 1, -2], [1, 0, -1], [2, 3, -2]]\n",
        "C_c = matrix_multiplication(A_c, B_c)\n",
        "print(\"Resultado de c:\\n\", C_c)"
      ]
    },
    {
      "cell_type": "code",
      "execution_count": 56,
      "metadata": {
        "colab": {
          "base_uri": "https://localhost:8080/"
        },
        "id": "jtAN8yuy_VV2",
        "outputId": "4e3c8694-d9eb-47e9-f3a9-1c5522bf39d1"
      },
      "outputs": [
        {
          "name": "stdout",
          "output_type": "stream",
          "text": [
            "Resultado de d:\n",
            " [[ -2   1]\n",
            " [-14   7]\n",
            " [  6   1]]\n"
          ]
        }
      ],
      "source": [
        "A_d = [[2, 1, 2], [-2, 3, 0], [2, -1, 3]]\n",
        "B_d = [[1, -2], [-4, 1], [0, 2]]\n",
        "C_d = matrix_multiplication(A_d, B_d)\n",
        "print(\"Resultado de d:\\n\", C_d)"
      ]
    },
    {
      "cell_type": "code",
      "execution_count": 57,
      "metadata": {
        "id": "YRc-YxUZCZeA"
      },
      "outputs": [],
      "source": [
        "#Ejercicio 2"
      ]
    },
    {
      "cell_type": "code",
      "execution_count": 58,
      "metadata": {
        "id": "E3m1dxtYCa7O"
      },
      "outputs": [],
      "source": [
        "def is_invertible(matrix):\n",
        "    \"\"\"\n",
        "    Esta función verifica si una matriz es invertible (no singular).\n",
        "    \"\"\"\n",
        "    return np.linalg.det(matrix) != 0\n",
        "\n",
        "def inverse_matrix(matrix):\n",
        "    \"\"\"\n",
        "    Esta función devuelve la inversa de una matriz si es invertible.\n",
        "    \"\"\"\n",
        "    if is_invertible(matrix):\n",
        "        return np.linalg.inv(matrix)\n",
        "    else:\n",
        "        raise ValueError(\"La matriz no es invertible\")"
      ]
    },
    {
      "cell_type": "code",
      "execution_count": 59,
      "metadata": {
        "colab": {
          "base_uri": "https://localhost:8080/"
        },
        "id": "dOXICKFtCwVo",
        "outputId": "bd15c83b-0c4e-43dd-8fe5-edb59046352d"
      },
      "outputs": [
        {
          "name": "stdout",
          "output_type": "stream",
          "text": [
            "La matriz a es singular y no tiene inversa.\n",
            "\n",
            "La matriz b es no singular y su inversa es:\n",
            "[[-0.25   0.25   0.25 ]\n",
            " [ 0.625 -0.125 -0.125]\n",
            " [ 0.125 -0.625  0.375]]\n",
            "\n",
            "La matriz c es singular y no tiene inversa.\n",
            "\n",
            "La matriz d es singular y no tiene inversa.\n",
            "\n"
          ]
        }
      ],
      "source": [
        "A_a = [[4, 2, 6], [3, 0, 7], [-2, -1, -3]]\n",
        "A_b = [[1, 2, 0], [2, 1, -1], [3, 1, 1]]\n",
        "A_c = [[1, 1, -1, 1], [1, 2, -4, -2], [2, 1, 1, 5], [-1, 0, -2, -4]]\n",
        "A_d = [[4, 0, 0, 0], [6, 7, 0, 0], [9, 11, 0, 0], [5, 4, 1, 1]]\n",
        "\n",
        "matrices = {\"a\": A_a, \"b\": A_b, \"c\": A_c, \"d\": A_d}\n",
        "for name, matrix in matrices.items():\n",
        "    try:\n",
        "        if is_invertible(matrix):\n",
        "            inv_matrix = inverse_matrix(matrix)\n",
        "            print(f\"La matriz {name} es no singular y su inversa es:\\n{inv_matrix}\\n\")\n",
        "        else:\n",
        "            print(f\"La matriz {name} es singular y no tiene inversa.\\n\")\n",
        "    except ValueError as e:\n",
        "        print(f\"Error en la matriz {name}: {e}\\n\")"
      ]
    },
    {
      "cell_type": "code",
      "execution_count": 60,
      "metadata": {
        "id": "vrYnRQpsFD2o"
      },
      "outputs": [],
      "source": [
        "#Ejercicio 3"
      ]
    },
    {
      "cell_type": "code",
      "execution_count": 61,
      "metadata": {
        "id": "Z6iCA0ccFFD0"
      },
      "outputs": [],
      "source": [
        "def resolver_sistema(coeficientes, terminos_independientes):\n",
        "    coeficientes = np.array(coeficientes)\n",
        "    terminos_independientes = np.array(terminos_independientes)\n",
        "    soluciones = np.linalg.solve(coeficientes, terminos_independientes)\n",
        "    return soluciones\n",
        "\n",
        "coeficientes = [\n",
        "    [1, -1, 2, -1],\n",
        "    [1, 0, -1, 1],\n",
        "    [2, 1, 3, -4],\n",
        "    [0, -1, 3, -4]\n",
        "]\n",
        "\n",
        "terminos_independientes_1 = [6, 4, -2, 5]\n",
        "terminos_independientes_2 = [1, 1, 2, -1]\n",
        "soluciones_1 = resolver_sistema(coeficientes, terminos_independientes_1)\n",
        "soluciones_2 = resolver_sistema(coeficientes, terminos_independientes_2)\n",
        "variables = ['x1', 'x2', 'x3', 'x4']"
      ]
    },
    {
      "cell_type": "code",
      "execution_count": 62,
      "metadata": {
        "colab": {
          "base_uri": "https://localhost:8080/"
        },
        "id": "8A23VsWgGL1b",
        "outputId": "02ec33f8-b640-4b22-f60d-be7c7d07d08b"
      },
      "outputs": [
        {
          "name": "stdout",
          "output_type": "stream",
          "text": [
            "Soluciones para el primer sistema:\n",
            "x1 = 3.0\n",
            "x2 = -6.5\n",
            "x3 = -2.5\n",
            "x4 = -1.5000000000000002\n",
            "\n",
            "Soluciones para el segundo sistema:\n",
            "x1 = 1.0\n",
            "x2 = 0.5\n",
            "x3 = 0.5\n",
            "x4 = 0.5\n"
          ]
        }
      ],
      "source": [
        "print(\"Soluciones para el primer sistema:\")\n",
        "for var, sol in zip(variables, soluciones_1):\n",
        "    print(f\"{var} = {sol}\")\n",
        "\n",
        "print(\"\\nSoluciones para el segundo sistema:\")\n",
        "for var, sol in zip(variables, soluciones_2):\n",
        "    print(f\"{var} = {sol}\")"
      ]
    },
    {
      "cell_type": "code",
      "execution_count": 63,
      "metadata": {
        "id": "LkBYLvNuG5pk"
      },
      "outputs": [],
      "source": [
        "#Ejercicio 4"
      ]
    },
    {
      "cell_type": "code",
      "execution_count": 64,
      "metadata": {},
      "outputs": [
        {
          "name": "stdout",
          "output_type": "stream",
          "text": [
            "Determinante de la matriz A: 2*alpha**2 - alpha - 6.0\n",
            "Los valores de α que hacen que la matriz sea singular son: [-1.5, 2.0]\n"
          ]
        }
      ],
      "source": [
        "def encontrar_alphas_singulares():\n",
        "    alpha = symbols('alpha')\n",
        "    A = Matrix([\n",
        "        [1, -1, alpha],\n",
        "        [2, 2, 1],\n",
        "        [0, alpha, -3/2]\n",
        "    ])\n",
        "\n",
        "    det_A = A.det()\n",
        "    print(f\"Determinante de la matriz A: {det_A}\")\n",
        "\n",
        "    valores_alpha = solve(Eq(det_A, 0), alpha)\n",
        "    \n",
        "    valores_alpha = [N(val, 2) for val in valores_alpha]\n",
        "    return valores_alpha\n",
        "\n",
        "valores_alpha_singulares = encontrar_alphas_singulares()\n",
        "print(f\"Los valores de α que hacen que la matriz sea singular son: {valores_alpha_singulares}\")"
      ]
    },
    {
      "cell_type": "code",
      "execution_count": 65,
      "metadata": {},
      "outputs": [],
      "source": [
        "#Ejercicio 5"
      ]
    },
    {
      "cell_type": "code",
      "execution_count": 66,
      "metadata": {},
      "outputs": [
        {
          "name": "stdout",
          "output_type": "stream",
          "text": [
            "Solución del sistema (a):\n",
            "x1 = -3\n",
            "x2 = 3\n",
            "x3 = 1\n",
            "\n",
            "Solución del sistema (b):\n",
            "x1 = 1\n",
            "x2 = -5\n",
            "x3 = 4\n"
          ]
        }
      ],
      "source": [
        "def resolver_sistema_lineal(A, B, C):\n",
        "    \"\"\"\n",
        "    Resuelve el sistema de ecuaciones lineales de la forma A(Bx) = C.\n",
        "\n",
        "    Parámetros:\n",
        "    - A: matriz de coeficientes (3x3)\n",
        "    - B: matriz de coeficientes (3x3)\n",
        "    - C: vector de constantes (3x1)\n",
        "\n",
        "    Devuelve:\n",
        "    - x: vector solución (3x1)\n",
        "    \"\"\"\n",
        "    \n",
        "    AB = np.dot(A, B)\n",
        "    \n",
        "    x = np.linalg.solve(AB, C)\n",
        "    \n",
        "    return x\n",
        "\n",
        "A_a = np.array([[1, 0, 0], \n",
        "                [2, 1, 0], \n",
        "                [-1, 0, 1]])\n",
        "\n",
        "B_a = np.array([[2, 3, -1], \n",
        "                [0, -2, 1], \n",
        "                [0, 0, 3]])\n",
        "\n",
        "C_a = np.array([2, -1, 1])\n",
        "\n",
        "A_b = np.array([[2, 0, 0], \n",
        "                [-1, 1, 0], \n",
        "                [3, 2, -1]])\n",
        "\n",
        "B_b = np.array([[1, 1, 1], \n",
        "                [0, 1, 2], \n",
        "                [0, 0, 1]])\n",
        "\n",
        "C_b = np.array([-1, 3, 0])\n",
        "\n",
        "x_a = resolver_sistema_lineal(A_a, B_a, C_a)\n",
        "x_b = resolver_sistema_lineal(A_b, B_b, C_b)\n",
        "\n",
        "print(\"Solución del sistema (a):\")\n",
        "for i, val in enumerate(x_a, 1):\n",
        "    print(f\"x{i} = {val:.0f}\")\n",
        "\n",
        "print(\"\\nSolución del sistema (b):\")\n",
        "for i, val in enumerate(x_b, 1):\n",
        "    print(f\"x{i} = {val:.0f}\")\n"
      ]
    },
    {
      "cell_type": "code",
      "execution_count": 67,
      "metadata": {},
      "outputs": [],
      "source": [
        "# Ejercicio 6"
      ]
    },
    {
      "cell_type": "code",
      "execution_count": 68,
      "metadata": {},
      "outputs": [
        {
          "name": "stdout",
          "output_type": "stream",
          "text": [
            "Matriz A1:\n",
            "P1:\n",
            " [[0. 1. 0.]\n",
            " [1. 0. 0.]\n",
            " [0. 0. 1.]]\n",
            "L1:\n",
            " [[ 1.          0.          0.        ]\n",
            " [ 0.66666667  1.          0.        ]\n",
            " [ 1.         -0.          1.        ]]\n",
            "U1:\n",
            " [[ 3.  3.  9.]\n",
            " [ 0. -3. -5.]\n",
            " [ 0.  0. -4.]]\n",
            "\n",
            "Matriz A2:\n",
            "P2:\n",
            " [[0. 0. 1.]\n",
            " [0. 1. 0.]\n",
            " [1. 0. 0.]]\n",
            "L2:\n",
            " [[ 1.          0.          0.        ]\n",
            " [-0.68685567  1.          0.        ]\n",
            " [ 0.32603093 -0.21424728  1.        ]]\n",
            "U2:\n",
            " [[ 3.104      -7.013       0.014     ]\n",
            " [ 0.         -0.72091881 -7.00338402]\n",
            " [ 0.          0.          1.59897957]]\n",
            "\n",
            "Matriz A3:\n",
            "P3:\n",
            " [[1. 0. 0. 0.]\n",
            " [0. 0. 0. 1.]\n",
            " [0. 1. 0. 0.]\n",
            " [0. 0. 1. 0.]]\n",
            "L3:\n",
            " [[ 1.          0.          0.          0.        ]\n",
            " [ 0.          1.          0.          0.        ]\n",
            " [ 1.          0.66666667  1.          0.        ]\n",
            " [ 0.5        -0.5         0.375       1.        ]]\n",
            "U3:\n",
            " [[ 2.          0.          0.          0.        ]\n",
            " [ 0.         -3.          0.5         0.        ]\n",
            " [ 0.          0.          0.66666667  1.        ]\n",
            " [ 0.          0.          0.         -0.375     ]]\n",
            "\n",
            "Matriz A4:\n",
            "P4:\n",
            " [[0. 0. 1. 0.]\n",
            " [0. 1. 0. 0.]\n",
            " [0. 0. 0. 1.]\n",
            " [1. 0. 0. 0.]]\n",
            "L4:\n",
            " [[ 1.          0.          0.          0.        ]\n",
            " [-0.66790072  1.          0.          0.        ]\n",
            " [ 0.36118536  0.14002434  1.          0.        ]\n",
            " [-0.16601644 -0.37924771 -0.5112737   1.        ]]\n",
            "U4:\n",
            " [[ 6.0235      7.          0.         -4.1561    ]\n",
            " [ 0.         10.67530506  0.         -1.57856219]\n",
            " [ 0.          0.         -2.1732      6.91885959]\n",
            " [ 0.          0.          0.          2.24878393]]\n"
          ]
        }
      ],
      "source": [
        "def lu_factorization(A):\n",
        "    \"\"\"\n",
        "    Realiza la factorización LU de una matriz A.\n",
        "    \n",
        "    Parámetros:\n",
        "    A (ndarray): Matriz cuadrada a factorizar.\n",
        "    \n",
        "    Retorna:\n",
        "    P (ndarray): Matriz de permutación.\n",
        "    L (ndarray): Matriz triangular inferior.\n",
        "    U (ndarray): Matriz triangular superior.\n",
        "    \"\"\"\n",
        "    P, L, U = lu(A)\n",
        "    return P, L, U\n",
        "\n",
        "A1 = np.array([[2, -1, 1],\n",
        "               [3, 3, 9],\n",
        "               [3, 3, 5]])\n",
        "\n",
        "A2 = np.array([[1.012, -2.132, 3.104],\n",
        "               [-2.132, 4.096, -7.013],\n",
        "               [3.104, -7.013, 0.014]])\n",
        "\n",
        "A3 = np.array([[2, 0, 0, 0],\n",
        "               [1, 1.5, 0, 0],\n",
        "               [0, -3, 0.5, 0],\n",
        "               [2, -2, 1, 1]])\n",
        "\n",
        "A4 = np.array([[2.1756, 4.0231, -2.1732, 5.1967],\n",
        "               [-4.0231, 6.0000, 0, 1.1973],\n",
        "               [-1.0000, -5.2107, 1.1111, 0],\n",
        "               [6.0235, 7.0000, 0, -4.1561]])\n",
        "\n",
        "P1, L1, U1 = lu_factorization(A1)\n",
        "P2, L2, U2 = lu_factorization(A2)\n",
        "P3, L3, U3 = lu_factorization(A3)\n",
        "P4, L4, U4 = lu_factorization(A4)\n",
        "\n",
        "print(\"Matriz A1:\")\n",
        "print(\"P1:\\n\", P1)\n",
        "print(\"L1:\\n\", L1)\n",
        "print(\"U1:\\n\", U1)\n",
        "\n",
        "print(\"\\nMatriz A2:\")\n",
        "print(\"P2:\\n\", P2)\n",
        "print(\"L2:\\n\", L2)\n",
        "print(\"U2:\\n\", U2)\n",
        "\n",
        "print(\"\\nMatriz A3:\")\n",
        "print(\"P3:\\n\", P3)\n",
        "print(\"L3:\\n\", L3)\n",
        "print(\"U3:\\n\", U3)\n",
        "\n",
        "print(\"\\nMatriz A4:\")\n",
        "print(\"P4:\\n\", P4)\n",
        "print(\"L4:\\n\", L4)\n",
        "print(\"U4:\\n\", U4)"
      ]
    },
    {
      "cell_type": "code",
      "execution_count": 69,
      "metadata": {},
      "outputs": [],
      "source": [
        "# Ejercicio 7"
      ]
    },
    {
      "cell_type": "code",
      "execution_count": 70,
      "metadata": {},
      "outputs": [
        {
          "name": "stdout",
          "output_type": "stream",
          "text": [
            "Solución para el sistema a:\n",
            "x1 = [ 1.  2. -1.]\n",
            "\n",
            "Solución para el sistema b:\n",
            "x2 = [1. 1. 1.]\n",
            "\n",
            "Solución para el sistema c:\n",
            "x3 = [ 1.5  2.  -1.2  3. ]\n",
            "\n",
            "Solución para el sistema d:\n",
            "x4 = [2.9398512  0.0706777  5.67773512 4.37981223]\n"
          ]
        }
      ],
      "source": [
        "def solve_using_lu(A, b):\n",
        "    \"\"\"\n",
        "    Resuelve el sistema de ecuaciones Ax = b utilizando la factorización LU.\n",
        "    \n",
        "    Parámetros:\n",
        "    A (ndarray): Matriz de coeficientes.\n",
        "    b (ndarray): Vector de términos independientes.\n",
        "    \n",
        "    Retorna:\n",
        "    x (ndarray): Solución del sistema de ecuaciones.\n",
        "    \"\"\"\n",
        "\n",
        "    lu, piv = lu_factor(A)\n",
        "    x = lu_solve((lu, piv), b)\n",
        "    return x\n",
        "\n",
        "A1 = np.array([[2, -1, 1],\n",
        "               [3, 3, 9],\n",
        "               [3, 3, 5]])\n",
        "\n",
        "b1 = np.array([-1, 0, 4])\n",
        "\n",
        "A2 = np.array([[1.012, -2.132, 3.104],\n",
        "               [-2.132, 4.096, -7.013],\n",
        "               [3.104, -7.013, 0.014]])\n",
        "\n",
        "b2 = np.array([1.984, -5.049, -3.895])\n",
        "\n",
        "A3 = np.array([[2, 0, 0, 0],\n",
        "               [1, 1.5, 0, 0],\n",
        "               [0, -3, 0.5, 0],\n",
        "               [2, -2, 1, 1]])\n",
        "\n",
        "b3 = np.array([3, 4.5, -6.6, 0.8])\n",
        "\n",
        "A4 = np.array([[2.1756, 4.0231, -2.1732, 5.1967],\n",
        "               [-4.0231, 6.0000, 0, 1.1973],\n",
        "               [-1.0000, -5.2107, 1.1111, 0],\n",
        "               [6.0235, 7.0000, 0, -4.1561]])\n",
        "\n",
        "b4 = np.array([17.102, -6.1593, 3.0004, 0.0])\n",
        "\n",
        "x1 = solve_using_lu(A1, b1)\n",
        "x2 = solve_using_lu(A2, b2)\n",
        "x3 = solve_using_lu(A3, b3)\n",
        "x4 = solve_using_lu(A4, b4)\n",
        "\n",
        "print(\"Solución para el sistema a:\")\n",
        "print(\"x1 =\", x1)\n",
        "\n",
        "print(\"\\nSolución para el sistema b:\")\n",
        "print(\"x2 =\", x2)\n",
        "\n",
        "print(\"\\nSolución para el sistema c:\")\n",
        "print(\"x3 =\", x3)\n",
        "\n",
        "print(\"\\nSolución para el sistema d:\")\n",
        "print(\"x4 =\", x4)\n"
      ]
    }
  ],
  "metadata": {
    "colab": {
      "provenance": []
    },
    "kernelspec": {
      "display_name": "Python 3",
      "name": "python3"
    },
    "language_info": {
      "codemirror_mode": {
        "name": "ipython",
        "version": 3
      },
      "file_extension": ".py",
      "mimetype": "text/x-python",
      "name": "python",
      "nbconvert_exporter": "python",
      "pygments_lexer": "ipython3",
      "version": "3.12.4"
    }
  },
  "nbformat": 4,
  "nbformat_minor": 0
}
