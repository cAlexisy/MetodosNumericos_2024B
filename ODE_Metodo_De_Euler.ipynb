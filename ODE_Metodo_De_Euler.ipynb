{
 "cells": [
  {
   "cell_type": "markdown",
   "metadata": {},
   "source": [
    "---\n",
    "Titulo: \"Métodos Numericos\"\n",
    "Subtitulo: \"ODE Método de Euler\"\n",
    "Nombre: \"Alexis Chacon\"\n",
    "---"
   ]
  },
  {
   "cell_type": "code",
   "execution_count": 83,
   "metadata": {},
   "outputs": [],
   "source": [
    "#Librerias \n",
    "import logging\n",
    "from sys import stdout\n",
    "from datetime import datetime\n",
    "from typing import Callable\n",
    "from math import exp, cos, sin,tan,log, factorial\n",
    "import numpy as np\n",
    "from math import log, tan, exp\n",
    "from typing import List, Callable"
   ]
  },
  {
   "cell_type": "code",
   "execution_count": 84,
   "metadata": {},
   "outputs": [],
   "source": [
    "#Ejercicio Numero 1"
   ]
  },
  {
   "cell_type": "code",
   "execution_count": 85,
   "metadata": {},
   "outputs": [],
   "source": [
    "#Metodo de Euler"
   ]
  },
  {
   "cell_type": "code",
   "execution_count": 86,
   "metadata": {},
   "outputs": [],
   "source": [
    "def euler_method(f, y0, t0, t_end, h):\n",
    "    \"\"\" \n",
    "    Implementa el método de Euler para resolver un PVI.\n",
    "    \n",
    "    Parámetros:\n",
    "    - f: función que define la derivada dy/dt = f(t, y)\n",
    "    - y0: valor inicial de y\n",
    "    - t0: valor inicial de t\n",
    "    - t_end: valor final de t\n",
    "    - h: tamaño del paso\n",
    "\n",
    "    Retorna:\n",
    "    - ts: array con los valores de t\n",
    "    - ys: array con las aproximaciones de y\n",
    "    \"\"\"\n",
    "    ts = np.arange(t0, t_end + h, h)\n",
    "    ys = np.zeros(len(ts))\n",
    "    ys[0] = y0\n",
    "\n",
    "    for i in range(1, len(ts)):\n",
    "        ys[i] = ys[i - 1] + h * f(ts[i - 1], ys[i - 1])\n",
    "    \n",
    "    return ts, ys"
   ]
  },
  {
   "cell_type": "code",
   "execution_count": 87,
   "metadata": {},
   "outputs": [
    {
     "name": "stdout",
     "output_type": "stream",
     "text": [
      "Problema a:\n",
      "t = 0.00, y = 0.0000\n",
      "t = 0.50, y = 0.0000\n",
      "t = 1.00, y = 1.1204\n",
      "\n",
      "Problema b:\n",
      "t = 2.00, y = 1.0000\n",
      "t = 2.50, y = 2.0000\n",
      "t = 3.00, y = 2.6250\n",
      "\n",
      "Problema c:\n",
      "t = 1.00, y = 2.0000\n",
      "t = 1.25, y = 2.7500\n",
      "t = 1.50, y = 3.5500\n",
      "t = 1.75, y = 4.3917\n",
      "t = 2.00, y = 5.2690\n",
      "\n",
      "Problema d:\n",
      "t = 0.00, y = 1.0000\n",
      "t = 0.25, y = 1.2500\n",
      "t = 0.50, y = 1.6398\n",
      "t = 0.75, y = 2.0243\n",
      "t = 1.00, y = 2.2365\n"
     ]
    }
   ],
   "source": [
    "def problem_a(t, y):\n",
    "    return t * exp(3 * t) - 2 * y\n",
    "\n",
    "def problem_b(t, y):\n",
    "    return 1 + (t - y)**2\n",
    "\n",
    "def problem_c(t, y):\n",
    "    return 1 + y / t\n",
    "\n",
    "def problem_d(t, y):\n",
    "    return cos(2 * t) + sin(3 * t)\n",
    "\n",
    "# Problema a\n",
    "t0_a, t_end_a, y0_a, h_a = 0.0, 1.0, 0.0, 0.5\n",
    "ts_a, ys_a = euler_method(problem_a, y0_a, t0_a, t_end_a, h_a)\n",
    "print(\"Problema a:\")\n",
    "for t, y in zip(ts_a, ys_a):\n",
    "    print(f\"t = {t:.2f}, y = {y:.4f}\")\n",
    "\n",
    "# Problema b\n",
    "t0_b, t_end_b, y0_b, h_b = 2.0, 3.0, 1.0, 0.5\n",
    "ts_b, ys_b = euler_method(problem_b, y0_b, t0_b, t_end_b, h_b)\n",
    "print(\"\\nProblema b:\")\n",
    "for t, y in zip(ts_b, ys_b):\n",
    "    print(f\"t = {t:.2f}, y = {y:.4f}\")\n",
    "\n",
    "# Problema c\n",
    "t0_c, t_end_c, y0_c, h_c = 1.0, 2.0, 2.0, 0.25\n",
    "ts_c, ys_c = euler_method(problem_c, y0_c, t0_c, t_end_c, h_c)\n",
    "print(\"\\nProblema c:\")\n",
    "for t, y in zip(ts_c, ys_c):\n",
    "    print(f\"t = {t:.2f}, y = {y:.4f}\")\n",
    "\n",
    "# Problema d\n",
    "t0_d, t_end_d, y0_d, h_d = 0.0, 1.0, 1.0, 0.25\n",
    "ts_d, ys_d = euler_method(problem_d, y0_d, t0_d, t_end_d, h_d)\n",
    "print(\"\\nProblema d:\")\n",
    "for t, y in zip(ts_d, ys_d):\n",
    "    print(f\"t = {t:.2f}, y = {y:.4f}\")"
   ]
  },
  {
   "cell_type": "code",
   "execution_count": 88,
   "metadata": {},
   "outputs": [],
   "source": [
    "#Ejercicio Numero 2"
   ]
  },
  {
   "cell_type": "code",
   "execution_count": 89,
   "metadata": {},
   "outputs": [],
   "source": [
    "#Probema a)"
   ]
  },
  {
   "cell_type": "code",
   "execution_count": 90,
   "metadata": {},
   "outputs": [
    {
     "name": "stdout",
     "output_type": "stream",
     "text": [
      "Resultados del problema (a) usando el método de Euler:\n",
      "t = 0.00, y = 0.0000, exacta = 0.0000, error relativo = inf\n",
      "t = 0.50, y = 0.5000, exacta = 0.2836, error relativo = 0.7629\n",
      "t = 1.27, y = 1.0000, exacta = 9.6236, error relativo = 0.8961\n"
     ]
    }
   ],
   "source": [
    "def problem_a(t, y):\n",
    "    \"\"\"Función que define la derivada para el problema a.\"\"\"\n",
    "    return t * exp(3 * t) - 2 * y\n",
    "\n",
    "def exact_a(t):\n",
    "    \"\"\"Solución exacta del problema a.\"\"\"\n",
    "    return (1 / 5) * t * exp(3 * t) - (1 / 25) * exp(3 * t) + (1 / 25) * exp(-2 * t)\n",
    "\n",
    "a = 0.0\n",
    "b = 1.0\n",
    "y_t0 = 0.0\n",
    "h = 0.5\n",
    "\n",
    "ys_a, ts_a = euler_method(f, y_t0, a, b, h)\n",
    "\n",
    "print(\"Resultados del problema (a) usando el método de Euler:\")\n",
    "for t, y in zip(ts_a, ys_a):\n",
    "    exact_y = exact_a(t)\n",
    "    error_relativo = abs((exact_y - y) / exact_y) if exact_y != 0 else float('inf')\n",
    "    print(f\"t = {t:.2f}, y = {y:.4f}, exacta = {exact_y:.4f}, error relativo = {error_relativo:.4f}\")"
   ]
  },
  {
   "cell_type": "code",
   "execution_count": 91,
   "metadata": {},
   "outputs": [
    {
     "name": "stdout",
     "output_type": "stream",
     "text": [
      "Solución:\n",
      "t = 0.00, y = 0.0000, exacta = 0.0000, error real = 0.0000\n",
      "t = 0.00, y = 0.5000, exacta = 0.0000, error real = 0.5000\n",
      "t = 1.12, y = 1.0000, exacta = 5.3106, error real = 4.3106\n"
     ]
    }
   ],
   "source": [
    "f = lambda t, y: t * exp(3 * t) - 2 * y\n",
    "exact_a = lambda t: (1 / 5) * t * exp(3 * t) - (1 / 25) * exp(3 * t) + (1 / 25) * exp(-2 * t)\n",
    "\n",
    "a = 0\n",
    "b = 1\n",
    "y_t0 = 0\n",
    "h = 0.5\n",
    "\n",
    "ys_a, ts_a = euler_method(f, y_t0, a, b, h)\n",
    "\n",
    "print(\"Solución:\")\n",
    "for t, y in zip(ts_a, ys_a):\n",
    "    exact_y = exact_a(t)\n",
    "    error_real = abs(exact_y - y)\n",
    "    print(f\"t = {t:.2f}, y = {y:.4f}, exacta = {exact_y:.4f}, error real = {error_real:.4f}\")\n",
    "\n"
   ]
  },
  {
   "cell_type": "code",
   "execution_count": 92,
   "metadata": {},
   "outputs": [],
   "source": [
    "#Probema b)"
   ]
  },
  {
   "cell_type": "code",
   "execution_count": 93,
   "metadata": {},
   "outputs": [
    {
     "name": "stdout",
     "output_type": "stream",
     "text": [
      "Resultados del problema (b) usando el método de Euler:\n",
      "t = 1.00, y = 2.0000, exacta = inf, error relativo = nan\n",
      "t = 2.00, y = 2.5000, exacta = 1.0000, error relativo = 1.5000\n",
      "t = 2.62, y = 3.0000, exacta = 2.0096, error relativo = 0.4928\n"
     ]
    },
    {
     "name": "stderr",
     "output_type": "stream",
     "text": [
      "C:\\Users\\agust\\AppData\\Local\\Temp\\ipykernel_13104\\2348409948.py:5: RuntimeWarning: divide by zero encountered in scalar divide\n",
      "  return t + 1 / (1 - t)\n",
      "C:\\Users\\agust\\AppData\\Local\\Temp\\ipykernel_13104\\2348409948.py:17: RuntimeWarning: invalid value encountered in scalar divide\n",
      "  error_relativo = abs((exact_y - y) / exact_y) if exact_y != 0 else float('inf')\n"
     ]
    }
   ],
   "source": [
    "def problem_b(t, y):\n",
    "    return 1 + (t - y)**2\n",
    "\n",
    "def exact_b(t):\n",
    "    return t + 1 / (1 - t)\n",
    "\n",
    "a = 2.0\n",
    "b = 3.0\n",
    "y_t0 = 1.0\n",
    "h = 0.5\n",
    "\n",
    "ys_b, ts_b = euler_method(problem_b, y_t0, a, b, h)\n",
    "\n",
    "print(\"Resultados del problema (b) usando el método de Euler:\")\n",
    "for t, y in zip(ts_b, ys_b):\n",
    "    exact_y = exact_b(t)\n",
    "    error_relativo = abs((exact_y - y) / exact_y) if exact_y != 0 else float('inf')\n",
    "    print(f\"t = {t:.2f}, y = {y:.4f}, exacta = {exact_y:.4f}, error relativo = {error_relativo:.4f}\")"
   ]
  },
  {
   "cell_type": "code",
   "execution_count": 94,
   "metadata": {},
   "outputs": [],
   "source": [
    "#Probema c)"
   ]
  },
  {
   "cell_type": "code",
   "execution_count": 95,
   "metadata": {},
   "outputs": [
    {
     "name": "stdout",
     "output_type": "stream",
     "text": [
      "Resultados del problema (c) usando el método de Euler:\n",
      "t = 2.00, y = 1.0000, exacta = 5.3863, error relativo = 0.8143\n",
      "t = 2.75, y = 1.2500, exacta = 8.2819, error relativo = 0.8491\n",
      "t = 3.55, y = 1.5000, exacta = 11.5977, error relativo = 0.8707\n",
      "t = 4.39, y = 1.7500, exacta = 15.2817, error relativo = 0.8855\n",
      "t = 5.27, y = 2.0000, exacta = 19.2945, error relativo = 0.8963\n"
     ]
    }
   ],
   "source": [
    "def problem_c(t, y):\n",
    "    return 1 + y / t\n",
    "\n",
    "def exact_c(t):\n",
    "    return t * log(t) + 2 * t\n",
    "\n",
    "a = 1.0\n",
    "b = 2.0\n",
    "y_t0 = 2.0\n",
    "h = 0.25\n",
    "\n",
    "ys_c, ts_c = euler_method(problem_c, y_t0, a, b, h)\n",
    "\n",
    "print(\"Resultados del problema (c) usando el método de Euler:\")\n",
    "for t, y in zip(ts_c, ys_c):\n",
    "    exact_y = exact_c(t)\n",
    "    error_relativo = abs((exact_y - y) / exact_y) if exact_y != 0 else float('inf')\n",
    "    print(f\"t = {t:.2f}, y = {y:.4f}, exacta = {exact_y:.4f}, error relativo = {error_relativo:.4f}\")"
   ]
  },
  {
   "cell_type": "code",
   "execution_count": 96,
   "metadata": {},
   "outputs": [],
   "source": [
    "#Probema d)"
   ]
  },
  {
   "cell_type": "code",
   "execution_count": 97,
   "metadata": {},
   "outputs": [
    {
     "name": "stdout",
     "output_type": "stream",
     "text": [
      "Resultados del problema (d) usando el método de Euler:\n",
      "t = 0.00, y = 1.0000, exacta = 0.7889, error relativo = 0.2676\n",
      "t = 0.25, y = 1.2500, exacta = 0.9521, error relativo = 0.3129\n",
      "t = 0.50, y = 1.6398, exacta = 1.1433, error relativo = 0.4342\n",
      "t = 0.75, y = 2.0243, exacta = 1.2910, error relativo = 0.5679\n",
      "t = 1.00, y = 2.2365, exacta = 1.3387, error relativo = 0.6706\n"
     ]
    },
    {
     "name": "stderr",
     "output_type": "stream",
     "text": [
      "C:\\Users\\agust\\AppData\\Local\\Temp\\ipykernel_13104\\2519364046.py:2: RuntimeWarning: divide by zero encountered in scalar divide\n",
      "  return 1 + y / t\n"
     ]
    }
   ],
   "source": [
    "def problem_d(t, y):\n",
    "    return cos(2 * t) + sin(3 * t)\n",
    "\n",
    "def exact_d(t):\n",
    "    return (1/5) * sin(2*t) - (1/10) * cos(2*t) - (1/9) * cos(3*t) + (1/27) * sin(3*t) + 1\n",
    "\n",
    "a = 0.0\n",
    "b = 1.0\n",
    "y_t0 = 1.0\n",
    "h = 0.25\n",
    "\n",
    "ys_c, ts_c = euler_method(problem_c, y_t0, a, b, h)\n",
    "\n",
    "print(\"Resultados del problema (d) usando el método de Euler:\")\n",
    "for t, y in zip(ts_d, ys_d):\n",
    "    exact_y = exact_d(t)\n",
    "    error_relativo = abs((exact_y - y) / exact_y) if exact_y != 0 else float('inf')\n",
    "    print(f\"t = {t:.2f}, y = {y:.4f}, exacta = {exact_y:.4f}, error relativo = {error_relativo:.4f}\")"
   ]
  },
  {
   "cell_type": "code",
   "execution_count": 98,
   "metadata": {},
   "outputs": [],
   "source": [
    "#Ejercicio Numero 3"
   ]
  },
  {
   "cell_type": "code",
   "execution_count": 99,
   "metadata": {},
   "outputs": [],
   "source": [
    "#Probema a)"
   ]
  },
  {
   "cell_type": "code",
   "execution_count": 100,
   "metadata": {},
   "outputs": [
    {
     "name": "stdout",
     "output_type": "stream",
     "text": [
      "Aproximaciones por el método de Euler:\n",
      "t = 1.00, y = 1.0000\n",
      "t = 1.10, y = 1.0000\n",
      "t = 1.20, y = 1.0083\n",
      "t = 1.30, y = 1.0217\n",
      "t = 1.40, y = 1.0385\n",
      "t = 1.50, y = 1.0577\n",
      "t = 1.60, y = 1.0785\n",
      "t = 1.70, y = 1.1004\n",
      "t = 1.80, y = 1.1233\n",
      "t = 1.90, y = 1.1467\n",
      "t = 2.00, y = 1.1707\n"
     ]
    }
   ],
   "source": [
    "import numpy as np\n",
    "\n",
    "f = lambda t, y: (y / t) - (y / t)**2\n",
    "a = 1 \n",
    "b = 2  \n",
    "y_t0 = 1 \n",
    "h = 0.1 \n",
    "\n",
    "ts_b, ys_b = euler_method(f=f, y0=y_t0, t0=a, t_end=b, h=h)\n",
    "\n",
    "print(\"Aproximaciones por el método de Euler:\")\n",
    "for t, y in zip(ts_b, ys_b):\n",
    "    print(f\"t = {t:.2f}, y = {y:.4f}\")"
   ]
  },
  {
   "cell_type": "code",
   "execution_count": 101,
   "metadata": {},
   "outputs": [],
   "source": [
    "#Probema b)"
   ]
  },
  {
   "cell_type": "code",
   "execution_count": 102,
   "metadata": {},
   "outputs": [
    {
     "name": "stdout",
     "output_type": "stream",
     "text": [
      "Aproximaciones por el método de Euler:\n",
      "t = 1.00, y = 0.0000\n",
      "t = 1.20, y = 0.2000\n",
      "t = 1.40, y = 0.4389\n",
      "t = 1.60, y = 0.7212\n",
      "t = 1.80, y = 1.0520\n",
      "t = 2.00, y = 1.4373\n",
      "t = 2.20, y = 1.8843\n",
      "t = 2.40, y = 2.4023\n",
      "t = 2.60, y = 3.0028\n",
      "t = 2.80, y = 3.7006\n",
      "t = 3.00, y = 4.5143\n"
     ]
    }
   ],
   "source": [
    "import numpy as np\n",
    "\n",
    "f = lambda t, y: 1 + y/t + (y/t)**2\n",
    "a = 1 \n",
    "b = 3 \n",
    "y_t0 = 0 \n",
    "h = 0.2 \n",
    "\n",
    "ts_b, ys_b = euler_method(f=f, y0=y_t0, t0=a, t_end=b, h=h)\n",
    "\n",
    "print(\"Aproximaciones por el método de Euler:\")\n",
    "for t, y in zip(ts_b, ys_b):\n",
    "    print(f\"t = {t:.2f}, y = {y:.4f}\")"
   ]
  },
  {
   "cell_type": "code",
   "execution_count": 103,
   "metadata": {},
   "outputs": [],
   "source": [
    "#Probema c)"
   ]
  },
  {
   "cell_type": "code",
   "execution_count": 104,
   "metadata": {},
   "outputs": [
    {
     "name": "stdout",
     "output_type": "stream",
     "text": [
      "Aproximaciones por el método de Euler:\n",
      "t = 0.00, y = -2.0000\n",
      "t = 0.20, y = -1.8000\n",
      "t = 0.40, y = -1.6080\n",
      "t = 0.60, y = -1.4387\n",
      "t = 0.80, y = -1.3017\n",
      "t = 1.00, y = -1.1993\n",
      "t = 1.20, y = -1.1275\n",
      "t = 1.40, y = -1.0797\n",
      "t = 1.60, y = -1.0491\n",
      "t = 1.80, y = -1.0300\n",
      "t = 2.00, y = -1.0182\n"
     ]
    }
   ],
   "source": [
    "import numpy as np\n",
    "\n",
    "f = lambda t, y: -(y + 1) * (y + 3)\n",
    "a = 0 \n",
    "b = 2  \n",
    "y_t0 = -2 \n",
    "h = 0.2 \n",
    "\n",
    "ts_b, ys_b = euler_method(f=f, y0=y_t0, t0=a, t_end=b, h=h)\n",
    "\n",
    "print(\"Aproximaciones por el método de Euler:\")\n",
    "for t, y in zip(ts_b, ys_b):\n",
    "    print(f\"t = {t:.2f}, y = {y:.4f}\")"
   ]
  },
  {
   "cell_type": "code",
   "execution_count": 105,
   "metadata": {},
   "outputs": [],
   "source": [
    "#Probema d)"
   ]
  },
  {
   "cell_type": "code",
   "execution_count": 106,
   "metadata": {},
   "outputs": [
    {
     "name": "stdout",
     "output_type": "stream",
     "text": [
      "Aproximaciones por el método de Euler:\n",
      "t = 0.00, y = 0.3333\n",
      "t = 0.10, y = 0.1667\n",
      "t = 0.20, y = 0.1083\n",
      "t = 0.30, y = 0.1142\n",
      "t = 0.40, y = 0.1621\n",
      "t = 0.50, y = 0.2410\n",
      "t = 0.60, y = 0.3455\n",
      "t = 0.70, y = 0.4728\n",
      "t = 0.80, y = 0.6214\n",
      "t = 0.90, y = 0.7907\n",
      "t = 1.00, y = 0.9803\n"
     ]
    }
   ],
   "source": [
    "f = lambda t, y: -5*y + 5*t**2 + 2*t\n",
    "a = 0 \n",
    "b = 1  \n",
    "y_t0 = 1/3 \n",
    "h = 0.1 \n",
    "\n",
    "ts_b, ys_b = euler_method(f=f, y0=y_t0, t0=a, t_end=b, h=h)\n",
    "\n",
    "print(\"Aproximaciones por el método de Euler:\")\n",
    "for t, y in zip(ts_b, ys_b):\n",
    "    print(f\"t = {t:.2f}, y = {y:.4f}\")"
   ]
  },
  {
   "cell_type": "markdown",
   "metadata": {},
   "source": [
    "Ejercicio 4\n",
    "---\n",
    "Aquí se dan las soluciones reales para los problemas de valor inicial en el ejercicio 3. Calcule el error real en las \n",
    "aproximaciones del ejercicio 3.\n",
    "---"
   ]
  },
  {
   "cell_type": "code",
   "execution_count": 107,
   "metadata": {},
   "outputs": [],
   "source": [
    "#Probema a)"
   ]
  },
  {
   "cell_type": "code",
   "execution_count": 108,
   "metadata": {},
   "outputs": [
    {
     "name": "stdout",
     "output_type": "stream",
     "text": [
      "Solución:\n",
      "t = 1.00, y = 1.0000, exacta = 1.0000, error real = 0.0000\n",
      "t = 1.10, y = 1.0000, exacta = 1.0043, error real = 0.0043\n",
      "t = 1.20, y = 1.0083, exacta = 1.0150, error real = 0.0067\n",
      "t = 1.30, y = 1.0217, exacta = 1.0298, error real = 0.0081\n",
      "t = 1.40, y = 1.0385, exacta = 1.0475, error real = 0.0090\n",
      "t = 1.50, y = 1.0577, exacta = 1.0673, error real = 0.0096\n",
      "t = 1.60, y = 1.0785, exacta = 1.0884, error real = 0.0100\n",
      "t = 1.70, y = 1.1004, exacta = 1.1107, error real = 0.0102\n",
      "t = 1.80, y = 1.1233, exacta = 1.1337, error real = 0.0104\n",
      "t = 1.90, y = 1.1467, exacta = 1.1572, error real = 0.0105\n",
      "t = 2.00, y = 1.1707, exacta = 1.1812, error real = 0.0106\n"
     ]
    }
   ],
   "source": [
    "f = lambda t, y: (y / t) - (y / t)**2\n",
    "exact_a = lambda t: t / (1 + log(t))\n",
    "a = 1.0\n",
    "b = 2.0\n",
    "y_t0 = 1.0\n",
    "h = 0.1\n",
    "\n",
    "ts_a, ys_a = euler_method(f=f, y0=y_t0, t0=a, t_end=b, h=h)\n",
    "\n",
    "print(\"Solución:\")\n",
    "for t, y in zip(ts_a, ys_a):\n",
    "    exact_y = exact_a(t)\n",
    "    error_real = abs(exact_y - y)\n",
    "    print(f\"t = {t:.2f}, y = {y:.4f}, exacta = {exact_y:.4f}, error real = {error_real:.4f}\")"
   ]
  },
  {
   "cell_type": "code",
   "execution_count": 109,
   "metadata": {},
   "outputs": [],
   "source": [
    "#Probema b)"
   ]
  },
  {
   "cell_type": "code",
   "execution_count": 110,
   "metadata": {},
   "outputs": [
    {
     "name": "stdout",
     "output_type": "stream",
     "text": [
      "Solución:\n",
      "t = 1.00, y = 0.0000, exacta = 0.0000, error real = 0.0000\n",
      "t = 1.20, y = 0.2000, exacta = 0.2212, error real = 0.0212\n",
      "t = 1.40, y = 0.4389, exacta = 0.4897, error real = 0.0508\n",
      "t = 1.60, y = 0.7212, exacta = 0.8128, error real = 0.0915\n",
      "t = 1.80, y = 1.0520, exacta = 1.1994, error real = 0.1474\n",
      "t = 2.00, y = 1.4373, exacta = 1.6613, error real = 0.2240\n",
      "t = 2.20, y = 1.8843, exacta = 2.2135, error real = 0.3292\n",
      "t = 2.40, y = 2.4023, exacta = 2.8766, error real = 0.4743\n",
      "t = 2.60, y = 3.0028, exacta = 3.6785, error real = 0.6756\n",
      "t = 2.80, y = 3.7006, exacta = 4.6587, error real = 0.9581\n",
      "t = 3.00, y = 4.5143, exacta = 5.8741, error real = 1.3598\n"
     ]
    }
   ],
   "source": [
    "f = lambda t, y: 1 + y/t + (y/t)**2\n",
    "exact_a = lambda t: t * tan(log(t))\n",
    "a = 1.0\n",
    "b = 3.0\n",
    "y_t0 = 0\n",
    "h = 0.2\n",
    "\n",
    "ts_a, ys_a = euler_method(f=f, y0=y_t0, t0=a, t_end=b, h=h)\n",
    "\n",
    "print(\"Solución:\")\n",
    "for t, y in zip(ts_a, ys_a):\n",
    "    exact_y = exact_a(t)\n",
    "    error_real = abs(exact_y - y)\n",
    "    print(f\"t = {t:.2f}, y = {y:.4f}, exacta = {exact_y:.4f}, error real = {error_real:.4f}\")"
   ]
  },
  {
   "cell_type": "code",
   "execution_count": 111,
   "metadata": {},
   "outputs": [],
   "source": [
    "#Probema c)"
   ]
  },
  {
   "cell_type": "code",
   "execution_count": 112,
   "metadata": {},
   "outputs": [
    {
     "name": "stdout",
     "output_type": "stream",
     "text": [
      "Solución:\n",
      "t = 0.00, y = -2.0000, exacta = -2.0000, error real = 0.0000\n",
      "t = 0.20, y = -1.8000, exacta = -1.8026, error real = 0.0026\n",
      "t = 0.40, y = -1.6080, exacta = -1.6201, error real = 0.0121\n",
      "t = 0.60, y = -1.4387, exacta = -1.4630, error real = 0.0242\n",
      "t = 0.80, y = -1.3017, exacta = -1.3360, error real = 0.0342\n",
      "t = 1.00, y = -1.1993, exacta = -1.2384, error real = 0.0392\n",
      "t = 1.20, y = -1.1275, exacta = -1.1663, error real = 0.0389\n",
      "t = 1.40, y = -1.0797, exacta = -1.1146, error real = 0.0349\n",
      "t = 1.60, y = -1.0491, exacta = -1.0783, error real = 0.0292\n",
      "t = 1.80, y = -1.0300, exacta = -1.0532, error real = 0.0232\n",
      "t = 2.00, y = -1.0182, exacta = -1.0360, error real = 0.0178\n"
     ]
    }
   ],
   "source": [
    "f = lambda t, y: -(y + 1) * (y + 3)\n",
    "exact_a = lambda t: -3 + 2 / (1 + exp(-2 * t))\n",
    "a = 0\n",
    "b = 2\n",
    "y_t0 = -2\n",
    "h = 0.2\n",
    "\n",
    "ts_a, ys_a = euler_method(f=f, y0=y_t0, t0=a, t_end=b, h=h)\n",
    "\n",
    "print(\"Solución:\")\n",
    "for t, y in zip(ts_a, ys_a):\n",
    "    exact_y = exact_a(t)\n",
    "    error_real = abs(exact_y - y)\n",
    "    print(f\"t = {t:.2f}, y = {y:.4f}, exacta = {exact_y:.4f}, error real = {error_real:.4f}\")"
   ]
  },
  {
   "cell_type": "code",
   "execution_count": 113,
   "metadata": {},
   "outputs": [],
   "source": [
    "#Probema d)"
   ]
  },
  {
   "cell_type": "code",
   "execution_count": 114,
   "metadata": {},
   "outputs": [
    {
     "name": "stdout",
     "output_type": "stream",
     "text": [
      "Solución:\n",
      "t = 0.00, y = 0.3333, exacta = 0.3333, error real = 0.0000\n",
      "t = 0.10, y = 0.1667, exacta = 0.2122, error real = 0.0455\n",
      "t = 0.20, y = 0.1083, exacta = 0.1626, error real = 0.0543\n",
      "t = 0.30, y = 0.1142, exacta = 0.1644, error real = 0.0502\n",
      "t = 0.40, y = 0.1621, exacta = 0.2051, error real = 0.0430\n",
      "t = 0.50, y = 0.2410, exacta = 0.2774, error real = 0.0363\n",
      "t = 0.60, y = 0.3455, exacta = 0.3766, error real = 0.0311\n",
      "t = 0.70, y = 0.4728, exacta = 0.5001, error real = 0.0273\n",
      "t = 0.80, y = 0.6214, exacta = 0.6461, error real = 0.0247\n",
      "t = 0.90, y = 0.7907, exacta = 0.8137, error real = 0.0230\n",
      "t = 1.00, y = 0.9803, exacta = 1.0022, error real = 0.0219\n"
     ]
    }
   ],
   "source": [
    "f = lambda t, y: -5*y + 5*t**2 + 2*t\n",
    "exact_a = lambda t: t**2 + 1/3 * exp(-5*t)\n",
    "a = 0\n",
    "b = 1\n",
    "y_t0 = 1/3\n",
    "h = 0.1\n",
    "\n",
    "ts_a, ys_a = euler_method(f=f, y0=y_t0, t0=a, t_end=b, h=h)\n",
    "\n",
    "print(\"Solución:\")\n",
    "for t, y in zip(ts_a, ys_a):\n",
    "    exact_y = exact_a(t)\n",
    "    error_real = abs(exact_y - y)\n",
    "    print(f\"t = {t:.2f}, y = {y:.4f}, exacta = {exact_y:.4f}, error real = {error_real:.4f}\")"
   ]
  },
  {
   "cell_type": "markdown",
   "metadata": {},
   "source": [
    "Ejercicio 5\n",
    "---\n",
    "Utilice los resultados del ejercicio 3 y la interpolación lineal para aproximar los siguientes valores de 𝑦(𝑡). Compare las aproximaciones asignadas para los valores reales obtenidos mediante las funciones determinadas en el ejercicio 4.\n",
    "---"
   ]
  },
  {
   "cell_type": "code",
   "execution_count": 115,
   "metadata": {},
   "outputs": [],
   "source": [
    "def interpolate_linear(ts: List[float], ys: List[float], t: float) -> float:\n",
    "    if t < ts[0] or t > ts[-1]:\n",
    "        raise ValueError(\"El valor t está fuera del rango de los datos\")\n",
    "    \n",
    "    i = np.searchsorted(ts, t) - 1\n",
    "    t0, y0 = ts[i], ys[i]\n",
    "    t1, y1 = ts[i + 1], ys[i + 1]\n",
    "    \n",
    "    return y0 + (t - t0) / (t1 - t0) * (y1 - y0)\n",
    "\n",
    "def real_a(t: float) -> float:\n",
    "    return t / (1 + log(t))\n",
    "\n",
    "def real_b(t: float) -> float:\n",
    "    return t * tan(log(t))\n",
    "\n",
    "def real_c(t: float) -> float:\n",
    "    return -3 + 2 / (1 + exp(-2 * t))\n",
    "\n",
    "def real_d(t: float) -> float:\n",
    "    return t ** 2 + (1 / 3) * exp(-5 * t)\n",
    "\n",
    "def interpolate_and_compare(ts: List[float], ys: List[float], t_values: List[float], real_func: Callable[[float], float]):\n",
    "    results = []\n",
    "    for t in t_values:\n",
    "        try:\n",
    "            interpolated_y = interpolate_linear(ts, ys, t)\n",
    "            real_y = real_func(t)\n",
    "            error = abs(real_y - interpolated_y)\n",
    "            results.append((t, interpolated_y, real_y, error))\n",
    "        except ValueError:\n",
    "            results.append((t, None, real_func(t), None))\n",
    "    return results"
   ]
  },
  {
   "cell_type": "code",
   "execution_count": 116,
   "metadata": {},
   "outputs": [],
   "source": [
    "#Probema a)"
   ]
  },
  {
   "cell_type": "code",
   "execution_count": 117,
   "metadata": {},
   "outputs": [
    {
     "name": "stdout",
     "output_type": "stream",
     "text": [
      "Resultados de interpolación y comparación con valores reales:\n",
      "Problema (a): t = 1.25, Interpolado = 1.014977, Real = 1.021957, Error = 0.006980\n",
      "Problema (a): t = 1.93, Interpolado = 1.153902, Real = 1.164390, Error = 0.010488\n"
     ]
    }
   ],
   "source": [
    "a, b = 1.0, 2.0\n",
    "y_t0 = 1.0\n",
    "h = 0.1\n",
    "f = lambda t, y: (y / t) - (y / t) ** 2\n",
    "\n",
    "ts_a, ys_a = euler_method(f=f, y0=y_t0, t0=a, t_end=b, h=h)\n",
    "\n",
    "t_values_a = [1.25, 1.93]\n",
    "results_a = interpolate_and_compare(ts_a, ys_a, t_values_a, real_a)\n",
    "\n",
    "print(\"Resultados de interpolación y comparación con valores reales:\")\n",
    "for t, interpolated, real, error in results_a:\n",
    "    if interpolated is not None:\n",
    "        print(f\"Problema (a): t = {t:.2f}, Interpolado = {interpolated:.6f}, Real = {real:.6f}, Error = {error:.6f}\")\n",
    "    else:\n",
    "        print(f\"Problema (a): t = {t:.2f}, Interpolado = N/A, Real = {real:.6f}, Error = N/A\")"
   ]
  },
  {
   "cell_type": "code",
   "execution_count": 118,
   "metadata": {},
   "outputs": [],
   "source": [
    "#Probema b)"
   ]
  },
  {
   "cell_type": "code",
   "execution_count": 119,
   "metadata": {},
   "outputs": [
    {
     "name": "stdout",
     "output_type": "stream",
     "text": [
      "Resultados de interpolación y comparación con valores reales:\n",
      "Problema (b): t = 1.25, Interpolado = 0.259722, Real = 0.283653, Error = 0.023931\n",
      "Problema (b): t = 1.93, Interpolado = 1.302427, Real = 1.490228, Error = 0.187801\n"
     ]
    }
   ],
   "source": [
    "a, b = 1.0, 3.0\n",
    "y_t0 = 0\n",
    "h = 0.2\n",
    "f = lambda t, y: 1 + y/t + (y/t)**2\n",
    "\n",
    "ts_b, ys_b = euler_method(f=f, y0=y_t0, t0=a, t_end=b, h=h)\n",
    "\n",
    "t_values_b = [1.25, 1.93]\n",
    "results_b = interpolate_and_compare(ts_b, ys_b, t_values_b, real_b)\n",
    "\n",
    "print(\"Resultados de interpolación y comparación con valores reales:\")\n",
    "for t, interpolated, real, error in results_b:\n",
    "    if interpolated is not None:\n",
    "        print(f\"Problema (b): t = {t:.2f}, Interpolado = {interpolated:.6f}, Real = {real:.6f}, Error = {error:.6f}\")\n",
    "    else:\n",
    "        print(f\"Problema (b): t = {t:.2f}, Interpolado = N/A, Real = {real:.6f}, Error = N/A\")"
   ]
  },
  {
   "cell_type": "code",
   "execution_count": 120,
   "metadata": {},
   "outputs": [],
   "source": [
    "#Probema c)"
   ]
  },
  {
   "cell_type": "code",
   "execution_count": 121,
   "metadata": {},
   "outputs": [
    {
     "name": "stdout",
     "output_type": "stream",
     "text": [
      "Problema (c): t = 1.30, Interpolado = -1.103618, Real = -1.138277, Error = 0.034659\n",
      "Problema (c): t = 1.93, Interpolado = -1.022283, Real = -1.041267, Error = 0.018984\n"
     ]
    }
   ],
   "source": [
    "a, b = 0, 2.0\n",
    "y_t0 = -2.0\n",
    "h = 0.2\n",
    "f = lambda t, y: -(y + 1) * (y + 3)\n",
    "\n",
    "ts_c, ys_c = euler_method(f=f, y0=y_t0, t0=a, t_end=b, h=h)\n",
    "\n",
    "t_values_c = [1.3, 1.93]\n",
    "results_c = interpolate_and_compare(ts_c, ys_c, t_values_c, real_c)\n",
    "\n",
    "for t, interpolated, real, error in results_c:\n",
    "    if interpolated is not None:\n",
    "        print(f\"Problema (c): t = {t:.2f}, Interpolado = {interpolated:.6f}, Real = {real:.6f}, Error = {error:.6f}\")\n",
    "    else:\n",
    "        print(f\"Problema (c): t = {t:.2f}, Interpolado = N/A, Real = {real:.6f}, Error = N/A\")"
   ]
  },
  {
   "cell_type": "code",
   "execution_count": 122,
   "metadata": {},
   "outputs": [],
   "source": [
    "#Probema d)"
   ]
  },
  {
   "cell_type": "code",
   "execution_count": 123,
   "metadata": {},
   "outputs": [
    {
     "name": "stdout",
     "output_type": "stream",
     "text": [
      "Problema (d): t = 0.54, Interpolado = 0.282833, Real = 0.314002, Error = 0.031169\n",
      "Problema (d): t = 0.94, Interpolado = 0.866552, Real = 0.886632, Error = 0.020080\n"
     ]
    }
   ],
   "source": [
    "a, b = 0.0, 1.0\n",
    "y_t0 = 1/3\n",
    "h = 0.1\n",
    "f = lambda t, y: -5 * y + 5 * t ** 2 + 2 * t\n",
    "\n",
    "ts_d, ys_d = euler_method(f=f, y0=y_t0, t0=a, t_end=b, h=h)\n",
    "\n",
    "t_values_d = [0.54, 0.94]\n",
    "results_d = interpolate_and_compare(ts_d, ys_d, t_values_d, real_d)\n",
    "\n",
    "for t, interpolated, real, error in results_d:\n",
    "    if interpolated is not None:\n",
    "        print(f\"Problema (d): t = {t:.2f}, Interpolado = {interpolated:.6f}, Real = {real:.6f}, Error = {error:.6f}\")\n",
    "    else:\n",
    "        print(f\"Problema (d): t = {t:.2f}, Interpolado = N/A, Real = {real:.6f}, Error = N/A\")"
   ]
  },
  {
   "cell_type": "markdown",
   "metadata": {},
   "source": [
    "Ejercicio 6\n",
    "---\n",
    "Use el método de Taylor de orden 2 para aproximar las soluciones para cada uno de los siguientes problemas de \n",
    "valor inicial\n",
    "---"
   ]
  },
  {
   "cell_type": "code",
   "execution_count": 124,
   "metadata": {},
   "outputs": [],
   "source": [
    "def ODE_euler_nth(\n",
    "    *,\n",
    "    a: float,\n",
    "    b: float,\n",
    "    f: Callable[[float, float], float],\n",
    "    f_derivatives: List[Callable[[float, float], float]],\n",
    "    y_t0: float,\n",
    "    N: int\n",
    ") -> tuple[list[float], list[float], float]:\n",
    "    h = (b - a) / N\n",
    "    t = a\n",
    "    ts = [t]\n",
    "    ys = [y_t0]\n",
    "\n",
    "    for _ in range(N):\n",
    "        y = ys[-1]\n",
    "        T = f(t, y)\n",
    "        ders = [\n",
    "            h / factorial(m + 2) * mth_derivative(t, y)\n",
    "            for m, mth_derivative in enumerate(f_derivatives)\n",
    "        ]\n",
    "        T += sum(ders)\n",
    "        y += h * T\n",
    "        ys.append(y)\n",
    "\n",
    "        t += h\n",
    "        ts.append(t)\n",
    "    return ys, ts, h"
   ]
  },
  {
   "cell_type": "code",
   "execution_count": 125,
   "metadata": {},
   "outputs": [],
   "source": [
    "#Probema a)"
   ]
  },
  {
   "cell_type": "code",
   "execution_count": 126,
   "metadata": {},
   "outputs": [
    {
     "name": "stdout",
     "output_type": "stream",
     "text": [
      "Problema a:\n",
      "h = 0.5\n",
      "t: [0, 0.5, 1.0]\n",
      "y: [0, 0.125, 2.0232389682729033]\n",
      "\n"
     ]
    }
   ],
   "source": [
    "f = lambda t, y: t * exp(3 * t) - 2 * y\n",
    "f_p = lambda t, y: exp(3 * t) * (3 * t + 1) - 2 * (t * exp(3 * t) - 2 * y)\n",
    "\n",
    "y_t0 = 0\n",
    "a = 0\n",
    "b = 1\n",
    "\n",
    "ys_nth, ts_nth, h = ODE_euler_nth(a=a, b=b, y_t0=y_t0, f=f, N=2, f_derivatives=[f_p])\n",
    "print(\"Problema a:\")\n",
    "print(f\"h = {h}\")\n",
    "print(f\"t: {ts_nth}\")\n",
    "print(f\"y: {ys_nth}\")\n",
    "print()"
   ]
  },
  {
   "cell_type": "code",
   "execution_count": 127,
   "metadata": {},
   "outputs": [],
   "source": [
    "#Probema b)"
   ]
  },
  {
   "cell_type": "code",
   "execution_count": 128,
   "metadata": {},
   "outputs": [
    {
     "name": "stdout",
     "output_type": "stream",
     "text": [
      "Problema b:\n",
      "h = 0.5\n",
      "t: [2, 2.5, 3.0]\n",
      "y: [1, 1.5, 2.0]\n",
      "\n"
     ]
    }
   ],
   "source": [
    "f = lambda t, y: 1 + (t - y) ** 2\n",
    "f_p = lambda t, y: -2 * (t - y) * (1 + (t - y) ** 2)\n",
    "\n",
    "y_t0 = 1\n",
    "a = 2\n",
    "b = 3\n",
    "\n",
    "ys_nth, ts_nth, h = ODE_euler_nth(a=a, b=b, y_t0=y_t0, f=f, N=2, f_derivatives=[f_p])\n",
    "print(\"Problema b:\")\n",
    "print(f\"h = {h}\")\n",
    "print(f\"t: {ts_nth}\")\n",
    "print(f\"y: {ys_nth}\")\n",
    "print()"
   ]
  },
  {
   "cell_type": "code",
   "execution_count": 129,
   "metadata": {},
   "outputs": [],
   "source": [
    "#Probema c)"
   ]
  },
  {
   "cell_type": "code",
   "execution_count": 130,
   "metadata": {},
   "outputs": [
    {
     "name": "stdout",
     "output_type": "stream",
     "text": [
      "Problema c:\n",
      "h = 0.25\n",
      "t: [1, 1.25, 1.5, 1.75, 2.0]\n",
      "y: [2, 2.71875, 3.483125, 4.286102430555555, 5.122524181547619]\n",
      "\n"
     ]
    }
   ],
   "source": [
    "f = lambda t, y: 1 + y / t\n",
    "f_p = lambda t, y: -y / t**2 + 1 / t\n",
    "\n",
    "y_t0 = 2\n",
    "a = 1\n",
    "b = 2\n",
    "\n",
    "ys_nth, ts_nth, h = ODE_euler_nth(a=a, b=b, y_t0=y_t0, f=f, N=4, f_derivatives=[f_p])\n",
    "print(\"Problema c:\")\n",
    "print(f\"h = {h}\")\n",
    "print(f\"t: {ts_nth}\")\n",
    "print(f\"y: {ys_nth}\")\n",
    "print()"
   ]
  },
  {
   "cell_type": "code",
   "execution_count": 131,
   "metadata": {},
   "outputs": [],
   "source": [
    "#Probema d)"
   ]
  },
  {
   "cell_type": "code",
   "execution_count": 132,
   "metadata": {},
   "outputs": [
    {
     "name": "stdout",
     "output_type": "stream",
     "text": [
      "Problema d:\n",
      "h = 0.25\n",
      "t: [0, 0.25, 0.5, 0.75, 1.0]\n",
      "y: [1, 1.34375, 1.7721870657725847, 2.110676064996487, 2.201643950842383]\n",
      "\n"
     ]
    }
   ],
   "source": [
    "f = lambda t, y: cos(2 * t) + sin(3 * t)\n",
    "f_p = lambda t, y: -2 * sin(2 * t) + 3 * cos(3 * t)\n",
    "\n",
    "y_t0 = 1\n",
    "a = 0\n",
    "b = 1\n",
    "\n",
    "ys_nth, ts_nth, h = ODE_euler_nth(a=a, b=b, y_t0=y_t0, f=f, N=4, f_derivatives=[f_p])\n",
    "print(\"Problema d:\")\n",
    "print(f\"h = {h}\")\n",
    "print(f\"t: {ts_nth}\")\n",
    "print(f\"y: {ys_nth}\")\n",
    "print()"
   ]
  },
  {
   "cell_type": "markdown",
   "metadata": {},
   "source": [
    "## 7. Repita el ejercicio 6 con el método de Taylor de orden 4."
   ]
  },
  {
   "cell_type": "code",
   "execution_count": 133,
   "metadata": {},
   "outputs": [
    {
     "name": "stdout",
     "output_type": "stream",
     "text": [
      "Problema a:\n",
      "h = 0.50\n",
      "t: ['0.00', '0.50', '1.00']\n",
      "y: ['0.00', '0.25', '2.83']\n",
      "\n",
      "Problema b:\n",
      "h = 0.50\n",
      "t: ['2.00', '2.50', '3.00']\n",
      "y: ['1.00', '1.65', '2.26']\n",
      "\n",
      "Problema c:\n",
      "h = 0.25\n",
      "t: ['1.00', '1.25', '1.50', '1.75', '2.00']\n",
      "y: ['2.00', '2.72', '3.50', '4.30', '5.15']\n",
      "\n",
      "Problema d:\n",
      "h = 0.25\n",
      "t: ['0.00', '0.25', '0.50', '0.75', '1.00']\n",
      "y: ['1.00', '1.33', '1.73', '2.04', '2.12']\n",
      "\n"
     ]
    }
   ],
   "source": [
    "# a) y' = t * e^(3t) - 2y, y(0) = 0, h = 0.5\n",
    "def f_a(t: float, y: float) -> float:\n",
    "    return t * exp(3 * t) - 2 * y\n",
    "\n",
    "def df_a(t: float, y: float) -> float:\n",
    "    return exp(3 * t) * (3 * t + 1) - 2 * (t * exp(3 * t) - 2 * y)\n",
    "\n",
    "def ddf_a(t: float, y: float) -> float:\n",
    "    return 3 * exp(3 * t) * (3 * t + 2) - 2 * exp(3 * t) * (3 * t + 1)\n",
    "\n",
    "def dddf_a(t: float, y: float) -> float:\n",
    "    return 9 * exp(3 * t) * (3 * t + 3) - 6 * exp(3 * t) * (3 * t + 2)\n",
    "\n",
    "# b) y' = 1 + (t - y)^2, y(2) = 1, h = 0.5\n",
    "def f_b(t: float, y: float) -> float:\n",
    "    return 1 + (t - y) ** 2\n",
    "\n",
    "def df_b(t: float, y: float) -> float:\n",
    "    return -2 * (t - y) * (1 + (t - y) ** 2)\n",
    "\n",
    "def ddf_b(t: float, y: float) -> float:\n",
    "    return 2 * (1 + (t - y) ** 2) - 2 * (t - y) * (-2 * (t - y))\n",
    "\n",
    "def dddf_b(t: float, y: float) -> float:\n",
    "    return 12 * (t - y) * (-2 * (t - y)) + 8 * (t - y) * (1 + (t - y) ** 2)\n",
    "\n",
    "# c) y' = 1 + y / t, y(1) = 2, h = 0.25\n",
    "def f_c(t: float, y: float) -> float:\n",
    "    return 1 + y / t\n",
    "\n",
    "def df_c(t: float, y: float) -> float:\n",
    "    return -y / t**2 + 1 / t\n",
    "\n",
    "def ddf_c(t: float, y: float) -> float:\n",
    "    return 2 * y / t**3 - 1 / t**2\n",
    "\n",
    "def dddf_c(t: float, y: float) -> float:\n",
    "    return -6 * y / t**4 + 2 / t**3\n",
    "\n",
    "# d) y' = cos(2t) + sin(3t), y(0) = 1, h = 0.25\n",
    "def f_d(t: float, y: float) -> float:\n",
    "    return cos(2 * t) + sin(3 * t)\n",
    "\n",
    "def df_d(t: float, y: float) -> float:\n",
    "    return -2 * sin(2 * t) + 3 * cos(3 * t)\n",
    "\n",
    "def ddf_d(t: float, y: float) -> float:\n",
    "    return -4 * cos(2 * t) - 9 * sin(3 * t)\n",
    "\n",
    "def dddf_d(t: float, y: float) -> float:\n",
    "    return 8 * sin(2 * t) - 27 * cos(3 * t)\n",
    "\n",
    "def ODE_euler_nth(\n",
    "    *,\n",
    "    a: float,\n",
    "    b: float,\n",
    "    f: Callable[[float, float], float],\n",
    "    f_derivatives: List[Callable[[float, float], float]],\n",
    "    y_t0: float,\n",
    "    N: int\n",
    ") -> tuple[list[float], list[float], float]:\n",
    "    h = (b - a) / N\n",
    "    ts = [a + i * h for i in range(N + 1)]\n",
    "    ys = [y_t0]\n",
    "\n",
    "    for i in range(1, N + 1):\n",
    "        t = ts[i - 1]\n",
    "        y = ys[-1]\n",
    "        T = f(t, y)\n",
    "        ders = [h ** (m + 1) / factorial(m + 2) * f_derivatives[m](t, y) for m in range(len(f_derivatives))]\n",
    "        T += sum(ders)\n",
    "        ys.append(y + h * T)\n",
    "    \n",
    "    return ys, ts, h\n",
    "\n",
    "problems = [\n",
    "    {\"a\": 0, \"b\": 1, \"f\": f_a, \"f_derivatives\": [df_a, ddf_a, dddf_a], \"y_t0\": 0, \"N\": 2},\n",
    "    {\"a\": 2, \"b\": 3, \"f\": f_b, \"f_derivatives\": [df_b, ddf_b, dddf_b], \"y_t0\": 1, \"N\": 2},\n",
    "    {\"a\": 1, \"b\": 2, \"f\": f_c, \"f_derivatives\": [df_c, ddf_c, dddf_c], \"y_t0\": 2, \"N\": 4},\n",
    "    {\"a\": 0, \"b\": 1, \"f\": f_d, \"f_derivatives\": [df_d, ddf_d, dddf_d], \"y_t0\": 1, \"N\": 4},\n",
    "]\n",
    "\n",
    "results = [ODE_euler_nth(**problem) for problem in problems]\n",
    "\n",
    "for i, (ys, ts, h) in enumerate(results):\n",
    "    print(f\"Problema {chr(97 + i)}:\")\n",
    "    print(f\"h = {h:.2f}\")\n",
    "    print(f\"t: {[f'{t:.2f}' for t in ts]}\")\n",
    "    print(f\"y: {[f'{y:.2f}' for y in ys]}\")\n",
    "    print()\n"
   ]
  }
 ],
 "metadata": {
  "kernelspec": {
   "display_name": "Python 3",
   "language": "python",
   "name": "python3"
  },
  "language_info": {
   "codemirror_mode": {
    "name": "ipython",
    "version": 3
   },
   "file_extension": ".py",
   "mimetype": "text/x-python",
   "name": "python",
   "nbconvert_exporter": "python",
   "pygments_lexer": "ipython3",
   "version": "3.12.5"
  }
 },
 "nbformat": 4,
 "nbformat_minor": 2
}
