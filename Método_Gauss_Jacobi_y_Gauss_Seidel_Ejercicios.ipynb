{
  "cells": [
    {
      "cell_type": "markdown",
      "metadata": {
        "id": "8kSFxQcrwPl5"
      },
      "source": [
        "#Tarea 11"
      ]
    },
    {
      "cell_type": "code",
      "execution_count": 128,
      "metadata": {},
      "outputs": [],
      "source": [
        "import numpy as np"
      ]
    },
    {
      "cell_type": "code",
      "execution_count": 129,
      "metadata": {
        "id": "PFymakrsucdg"
      },
      "outputs": [],
      "source": [
        "def jacobi_method(matrix_A, vector_b, initial_guess, iterations=2):\n",
        "    diagonal_matrix = np.diag(np.diag(matrix_A))\n",
        "    residual_matrix = matrix_A - diagonal_matrix\n",
        "\n",
        "    current_solution = initial_guess\n",
        "    print(\"Método de Jacobi:\")\n",
        "    for iteration in range(iterations):\n",
        "        current_solution = np.dot(np.linalg.inv(diagonal_matrix), vector_b - np.dot(residual_matrix, current_solution))\n",
        "        print(f\"Iteración {iteration + 1}: x = {current_solution}\")\n"
      ]
    },
    {
      "cell_type": "code",
      "execution_count": 130,
      "metadata": {
        "id": "cCFf2dqixICB"
      },
      "outputs": [],
      "source": [
        "def gauss_seidel_method(matrix_A, vector_b, initial_guess, iterations=2):\n",
        "    num_elements = len(vector_b)\n",
        "    current_solution = initial_guess.copy()\n",
        "    print(\"Método de Gauss-Seidel:\")\n",
        "    \n",
        "    for iter_count in range(iterations):\n",
        "        for i in range(num_elements):\n",
        "            sum_before = sum(matrix_A[i][j] * current_solution[j] for j in range(i))\n",
        "            sum_after = sum(matrix_A[i][j] * initial_guess[j] for j in range(i + 1, num_elements))\n",
        "            current_solution[i] = (vector_b[i] - sum_before - sum_after) / matrix_A[i][i]\n",
        "        initial_guess = current_solution.copy()\n",
        "        print(f\"Iteración {iter_count + 1}: x = {current_solution}\")\n"
      ]
    },
    {
      "cell_type": "markdown",
      "metadata": {
        "id": "wQoTdTcVwkTy"
      },
      "source": [
        "#Literal a)"
      ]
    },
    {
      "cell_type": "code",
      "execution_count": 131,
      "metadata": {
        "colab": {
          "base_uri": "https://localhost:8080/"
        },
        "id": "nFrZia0svBea",
        "outputId": "79f844e2-43fa-4867-82f9-78c0c7f4cc5c"
      },
      "outputs": [
        {
          "name": "stdout",
          "output_type": "stream",
          "text": [
            "Gauss-Jacobi:\n",
            "Iteración 1: x = [0.33333333 0.         0.57142857]\n",
            "Iteración 2: x = [ 0.14285714 -0.35714286  0.42857143]\n",
            "Gauss-Seidel:\n",
            "Iteración 1: x = [ 0.33333333 -0.16666667  0.5       ]\n",
            "Iteración 2: x = [ 0.11111111 -0.22222222  0.61904762]\n"
          ]
        }
      ],
      "source": [
        "A = np.array([[3, -1, 1],\n",
        "              [3, 6, 2],\n",
        "              [3, 3, 7]])\n",
        "a = np.array([1, 0, 4])\n",
        "x0 = np.zeros(len(a))\n",
        "\n",
        "jacobi_iteration(A, a, x0)\n",
        "gauss_seidel_iteration(A, a, x0)"
      ]
    },
    {
      "cell_type": "markdown",
      "metadata": {
        "id": "fSdKrMNBwpVd"
      },
      "source": [
        "#Literal b)"
      ]
    },
    {
      "cell_type": "code",
      "execution_count": 132,
      "metadata": {
        "colab": {
          "base_uri": "https://localhost:8080/"
        },
        "id": "LeDf4l4Hvj_E",
        "outputId": "524497ba-0a68-4cb6-f277-0b35bf985aa4"
      },
      "outputs": [
        {
          "name": "stdout",
          "output_type": "stream",
          "text": [
            "Gauss-Jacobi:\n",
            "Iteración 1: x = [0.9 0.7 0.6]\n",
            "Iteración 2: x = [0.97 0.91 0.74]\n",
            "Gauss-Seidel:\n",
            "Iteración 1: x = [0.9   0.79  0.758]\n",
            "Iteración 2: x = [0.979  0.9495 0.7899]\n"
          ]
        }
      ],
      "source": [
        "B = np.array([[10, -1, 0],\n",
        "              [-1, 10, -2],\n",
        "              [0, -2, 10]])\n",
        "b = np.array([9, 7, 6])\n",
        "x1 = np.zeros(len(b))\n",
        "\n",
        "jacobi_iteration(B, b, x1)\n",
        "gauss_seidel_iteration(B, b, x1)"
      ]
    },
    {
      "cell_type": "markdown",
      "metadata": {
        "id": "fdskGQXhwxeR"
      },
      "source": [
        "#Literal c)"
      ]
    },
    {
      "cell_type": "code",
      "execution_count": 133,
      "metadata": {
        "colab": {
          "base_uri": "https://localhost:8080/"
        },
        "id": "Eeqq16qswBni",
        "outputId": "adae0330-e6aa-4b07-e70d-65598bb979ac"
      },
      "outputs": [
        {
          "name": "stdout",
          "output_type": "stream",
          "text": [
            "Gauss-Jacobi:\n",
            "Iteración 1: x = [ 0.6    2.5   -1.375 -2.2  ]\n",
            "Iteración 2: x = [-0.65   1.65  -0.4   -2.475]\n",
            "Gauss-Seidel:\n",
            "Iteración 1: x = [ 0.6    2.2   -0.275 -2.255]\n",
            "Iteración 2: x = [-0.5       2.64     -0.336875 -2.267375]\n"
          ]
        }
      ],
      "source": [
        "C = np.array([[10, 5, 0, 0],\n",
        "              [5, 10, -4, 0],\n",
        "              [0, -4, 8, -1],\n",
        "              [0, 0, -1, 5]])\n",
        "c = np.array([6, 25, -11, -11])\n",
        "x2 = np.zeros(len(c))\n",
        "\n",
        "jacobi_iteration(C, c, x2)\n",
        "gauss_seidel_iteration(C, c, x2)"
      ]
    },
    {
      "cell_type": "markdown",
      "metadata": {
        "id": "ixmFjALFwzU2"
      },
      "source": [
        "#Literal d)"
      ]
    },
    {
      "cell_type": "code",
      "execution_count": 134,
      "metadata": {
        "colab": {
          "base_uri": "https://localhost:8080/"
        },
        "id": "BJAVZ4sQwOYN",
        "outputId": "765ad8e2-95d1-4ad6-9db0-768696ac60ff"
      },
      "outputs": [
        {
          "name": "stdout",
          "output_type": "stream",
          "text": [
            "Gauss-Jacobi:\n",
            "Iteración 1: x = [ 1.5 -2.   1.2  1.5  1.5]\n",
            "Iteración 2: x = [ 1.325 -1.6    1.6    1.675  2.425]\n",
            "Gauss-Seidel:\n",
            "Iteración 1: x = [ 1.5     -2.5      1.1      1.525    2.64375]\n",
            "Iteración 2: x = [ 1.1890625  -1.52135417  1.86239583  1.88252604  2.25564453]\n"
          ]
        }
      ],
      "source": [
        "D = np.array([[4, 1, 1, 0, 1],\n",
        "              [-1, -3, 1, 1, 0],\n",
        "              [2, 1, 5, -1, -1],\n",
        "              [-1, -1, -1, 4, 0],\n",
        "              [0, 2, -1, 1, 4]])\n",
        "d = np.array([6, 6, 6, 6, 6])\n",
        "x3 = np.zeros(len(d))\n",
        "\n",
        "jacobi_iteration(D, d, x3)\n",
        "gauss_seidel_iteration(D, d, x3)"
      ]
    },
    {
      "cell_type": "markdown",
      "metadata": {
        "id": "FuUCpqeMyu89"
      },
      "source": [
        "#3 & 4 "
      ]
    },
    {
      "cell_type": "code",
      "execution_count": 135,
      "metadata": {
        "id": "BP32X_LdyxKo"
      },
      "outputs": [],
      "source": [
        "def jacobi_method(matrix_A, vector_b, tolerance=1e-3, max_iterations=100):\n",
        "    diagonal_matrix = np.diag(np.diag(matrix_A))\n",
        "    residual_matrix = matrix_A - diagonal_matrix\n",
        "\n",
        "    current_solution = np.zeros(len(vector_b))\n",
        "    for iteration in range(max_iterations):\n",
        "        new_solution = np.dot(np.linalg.inv(diagonal_matrix), vector_b - np.dot(residual_matrix, current_solution))\n",
        "        if np.linalg.norm(new_solution - current_solution, ord=np.inf) < tolerance:\n",
        "            return new_solution\n",
        "        current_solution = new_solution\n",
        "\n",
        "    print(\"Número máximo de iteraciones alcanzado sin convergencia.\")\n",
        "    return current_solution"
      ]
    },
    {
      "cell_type": "code",
      "execution_count": 136,
      "metadata": {
        "id": "OrgeBqH20Fs-"
      },
      "outputs": [],
      "source": [
        "def gauss_seidel_method(matrix_A, vector_b, tolerance=1e-3, max_iterations=100):\n",
        "    num_elements = len(vector_b)\n",
        "    current_solution = np.zeros(num_elements)\n",
        "\n",
        "    for iteration in range(max_iterations):\n",
        "        new_solution = np.copy(current_solution)\n",
        "        for i in range(num_elements):\n",
        "            sum_before = sum(matrix_A[i][j] * new_solution[j] for j in range(i))\n",
        "            sum_after = sum(matrix_A[i][j] * current_solution[j] for j in range(i + 1, num_elements))\n",
        "            new_solution[i] = (vector_b[i] - sum_before - sum_after) / matrix_A[i][i]\n",
        "\n",
        "        if np.linalg.norm(new_solution - current_solution, ord=np.inf) < tolerance:\n",
        "            return new_solution\n",
        "\n",
        "        current_solution = new_solution\n",
        "\n",
        "    print(\"Número máximo de iteraciones alcanzado sin convergencia.\")\n",
        "    return current_solution"
      ]
    },
    {
      "cell_type": "code",
      "execution_count": 137,
      "metadata": {
        "colab": {
          "base_uri": "https://localhost:8080/"
        },
        "id": "iZka7CxszKyA",
        "outputId": "7aeeebef-78e6-4881-c483-28edcf510b5d"
      },
      "outputs": [
        {
          "name": "stdout",
          "output_type": "stream",
          "text": [
            "Solución jacobi ejercico a: [ 0.03510079 -0.23663751  0.65812732]\n",
            "Solución seidel ejercico a: [ 0.03535107 -0.23678863  0.65775895]\n"
          ]
        }
      ],
      "source": [
        "solucion = metodo_jacobi(A, a)\n",
        "print(\"Solución jacobi ejercico a:\", solucion)\n",
        "solucion = metodo_gauss_seidel(A, a)\n",
        "print(\"Solución seidel ejercico a:\", solucion)"
      ]
    },
    {
      "cell_type": "code",
      "execution_count": 138,
      "metadata": {
        "colab": {
          "base_uri": "https://localhost:8080/"
        },
        "id": "A9rQNN7-zR4r",
        "outputId": "6d9bee5d-ef97-4444-a5cb-9a3ba84f987f"
      },
      "outputs": [
        {
          "name": "stdout",
          "output_type": "stream",
          "text": [
            "Solución jacobi ejercico a: [0.995725 0.957775 0.79145 ]\n",
            "Solución seidel ejercico a: [0.9957475  0.95787375 0.79157475]\n"
          ]
        }
      ],
      "source": [
        "solucion = metodo_jacobi(B, b)\n",
        "print(\"Solución jacobi ejercico a:\", solucion)\n",
        "solucion = metodo_gauss_seidel(B, b)\n",
        "print(\"Solución seidel ejercico a:\", solucion)"
      ]
    },
    {
      "cell_type": "code",
      "execution_count": 139,
      "metadata": {
        "colab": {
          "base_uri": "https://localhost:8080/"
        },
        "id": "knGajvFMzTnl",
        "outputId": "18db5d8b-82fa-423e-e348-2f9a27f087fe"
      },
      "outputs": [
        {
          "name": "stdout",
          "output_type": "stream",
          "text": [
            "Solución jacobi ejercico a: [-0.79710581  2.79517067 -0.25939578 -2.25179299]\n",
            "Solución seidel ejercico a: [-0.79691476  2.79461827 -0.25918081 -2.25183616]\n"
          ]
        }
      ],
      "source": [
        "solucion = metodo_jacobi(C, c)\n",
        "print(\"Solución jacobi ejercico a:\", solucion)\n",
        "solucion = metodo_gauss_seidel(C, c)\n",
        "print(\"Solución seidel ejercico a:\", solucion)"
      ]
    },
    {
      "cell_type": "code",
      "execution_count": 140,
      "metadata": {
        "colab": {
          "base_uri": "https://localhost:8080/"
        },
        "id": "S_kGukO8zZZl",
        "outputId": "790c0010-698d-48e4-d622-fd024dec0f0a"
      },
      "outputs": [
        {
          "name": "stdout",
          "output_type": "stream",
          "text": [
            "Solución jacobi ejercico a: [ 0.78708833 -1.00303576  1.86604817  1.91244923  1.98957067]\n",
            "Solución seidel ejercico a: [ 0.78668253 -1.00271872  1.86628339  1.9125618   1.98978976]\n"
          ]
        }
      ],
      "source": [
        "solucion = metodo_jacobi(D, d)\n",
        "print(\"Solución jacobi ejercico a:\", solucion)\n",
        "solucion = metodo_gauss_seidel(D, d)\n",
        "print(\"Solución seidel ejercico a:\", solucion)"
      ]
    },
    {
      "cell_type": "markdown",
      "metadata": {
        "id": "bNAzMRmK11ea"
      },
      "source": [
        "#5 ejercicio"
      ]
    },
    {
      "cell_type": "markdown",
      "metadata": {
        "id": "Oozlg2dU2Yft"
      },
      "source": [
        "#Literal a)"
      ]
    },
    {
      "cell_type": "code",
      "execution_count": 141,
      "metadata": {},
      "outputs": [
        {
          "name": "stdout",
          "output_type": "stream",
          "text": [
            "Número máximo de iteraciones alcanzado sin convergencia.\n",
            "Solución después de 25 iteraciones: [-0.07418457 -0.66682655 -0.05066708]\n"
          ]
        }
      ],
      "source": [
        "import numpy as np\n",
        "\n",
        "def jacobi_method_25(matrix_A, vector_b, tolerance=1e-3, max_iterations=25):\n",
        "    diagonal_matrix = np.diag(np.diag(matrix_A))\n",
        "    residual_matrix = matrix_A - diagonal_matrix\n",
        "\n",
        "    current_solution = np.zeros(len(vector_b))\n",
        "    for iteration in range(max_iterations):\n",
        "        new_solution = np.dot(np.linalg.inv(diagonal_matrix), vector_b - np.dot(residual_matrix, current_solution))\n",
        "        if np.linalg.norm(new_solution - current_solution, ord=np.inf) < tolerance:\n",
        "            return new_solution\n",
        "        current_solution = new_solution\n",
        "\n",
        "    print(\"Número máximo de iteraciones alcanzado sin convergencia.\")\n",
        "    return current_solution\n",
        "\n",
        "Q5 = np.array([[2, -1, 1],\n",
        "               [1, 2, 2],\n",
        "               [-1, -1, 2]])\n",
        "q5 = np.array([-1, 4, -5])\n",
        "\n",
        "solucion = jacobi_method_25(Q5, q5)\n",
        "print(\"Solución después de 25 iteraciones:\", solucion)"
      ]
    },
    {
      "cell_type": "markdown",
      "metadata": {
        "id": "MVBRnHHv2dPl"
      },
      "source": [
        "#Literal b)"
      ]
    },
    {
      "cell_type": "code",
      "execution_count": 142,
      "metadata": {
        "id": "Kj-8Ppd62eyq"
      },
      "outputs": [
        {
          "name": "stdout",
          "output_type": "stream",
          "text": [
            "Solución con tolerancia 1e-5: [ 1.05882102  2.29411674 -0.82353112]\n"
          ]
        }
      ],
      "source": [
        "import numpy as np\n",
        "\n",
        "def gauss_seidel_method_tol(matrix_A, vector_b, tolerance=1e-5, max_iterations=100):\n",
        "    num_elements = len(vector_b)\n",
        "    current_solution = np.zeros(num_elements)\n",
        "\n",
        "    for iteration in range(max_iterations):\n",
        "        new_solution = np.copy(current_solution)\n",
        "        for i in range(num_elements):\n",
        "            sum_before = sum(matrix_A[i][j] * new_solution[j] for j in range(i))\n",
        "            sum_after = sum(matrix_A[i][j] * current_solution[j] for j in range(i + 1, num_elements))\n",
        "            new_solution[i] = (vector_b[i] - sum_before - sum_after) / matrix_A[i][i]\n",
        "\n",
        "        if np.linalg.norm(new_solution - current_solution, ord=np.inf) < tolerance:\n",
        "            return new_solution\n",
        "\n",
        "        current_solution = new_solution\n",
        "\n",
        "    print(\"Se alcanzó el número máximo de iteraciones sin convergencia.\")\n",
        "    return current_solution\n",
        "\n",
        "Q5 = np.array([[2, -1, 1],\n",
        "               [1, 2, 2],\n",
        "               [-1, -1, 2]])\n",
        "q5 = np.array([-1, 4, -5])\n",
        "\n",
        "solucion = gauss_seidel_method_tol(Q5, q5)\n",
        "print(\"Solución con tolerancia 1e-5:\", solucion)\n"
      ]
    },
    {
      "cell_type": "markdown",
      "metadata": {
        "id": "jbxMmJ5V3ZdG"
      },
      "source": [
        "#6 Ejercicio"
      ]
    },
    {
      "cell_type": "markdown",
      "metadata": {
        "id": "sdOjje5t4SkD"
      },
      "source": [
        "#Literal a)"
      ]
    },
    {
      "cell_type": "code",
      "execution_count": 143,
      "metadata": {
        "id": "nvjdQ6vv3Y6Z"
      },
      "outputs": [
        {
          "name": "stdout",
          "output_type": "stream",
          "text": [
            "La matriz no tiene una diagonal estrictamente dominante. La fila 1 no cumple la condición.\n"
          ]
        }
      ],
      "source": [
        "import numpy as np\n",
        "\n",
        "def is_strictly_diagonally_dominant(matrix):\n",
        "    n = matrix.shape[0]\n",
        "    for i in range(n):\n",
        "        row_sum = sum(abs(matrix[i, j]) for j in range(n) if j != i)\n",
        "        if abs(matrix[i, i]) <= row_sum:\n",
        "            return False, i + 1\n",
        "    return True, None\n",
        "\n",
        "S = np.array([\n",
        "    [1, 0, -1],\n",
        "    [-0.5, 1, -0.25],\n",
        "    [1, -0.5, 1]\n",
        "])\n",
        "\n",
        "result, row = is_strictly_diagonally_dominant(S)\n",
        "\n",
        "if result:\n",
        "    print(\"La matriz tiene una diagonal estrictamente dominante.\")\n",
        "else:\n",
        "    print(f\"La matriz no tiene una diagonal estrictamente dominante. La fila {row} no cumple la condición.\")"
      ]
    },
    {
      "cell_type": "markdown",
      "metadata": {
        "id": "9CNhvtTf4UE-"
      },
      "source": [
        "#Literal b)"
      ]
    },
    {
      "cell_type": "code",
      "execution_count": 144,
      "metadata": {
        "id": "z-Ez58W34VUf"
      },
      "outputs": [
        {
          "name": "stdout",
          "output_type": "stream",
          "text": [
            "Se alcanzó el número máximo de iteraciones sin convergencia.\n",
            "Solución con tolerancia 1e-22: [ 0.9 -0.8  0.7]\n"
          ]
        }
      ],
      "source": [
        "import numpy as np\n",
        "\n",
        "def metodo_gauss_seidel_tol(matrix_A, vector_b, tolerance=1e-22, max_iterations=300):\n",
        "    num_elements = len(vector_b)\n",
        "    current_solution = np.zeros(num_elements)\n",
        "\n",
        "    for iteration in range(max_iterations):\n",
        "        new_solution = np.copy(current_solution)\n",
        "        for i in range(num_elements):\n",
        "            sum_before = sum(matrix_A[i][j] * new_solution[j] for j in range(i))\n",
        "            sum_after = sum(matrix_A[i][j] * current_solution[j] for j in range(i + 1, num_elements))\n",
        "            new_solution[i] = (vector_b[i] - sum_before - sum_after) / matrix_A[i][i]\n",
        "\n",
        "        if np.linalg.norm(new_solution - current_solution, ord=np.inf) < tolerance:\n",
        "            return new_solution\n",
        "\n",
        "        current_solution = new_solution\n",
        "\n",
        "    print(\"Se alcanzó el número máximo de iteraciones sin convergencia.\")\n",
        "    return current_solution\n",
        "\n",
        "Sb = np.array([\n",
        "    [1, 0, -1],\n",
        "    [-0.5, 1, -0.25],\n",
        "    [1, -0.5, 1]\n",
        "])\n",
        "\n",
        "sb = np.array([0.2, -1.425, 2])\n",
        "\n",
        "solucion = metodo_gauss_seidel_tol(Sb, sb)\n",
        "print(\"Solución con tolerancia 1e-22:\", solucion)\n"
      ]
    },
    {
      "cell_type": "markdown",
      "metadata": {
        "id": "omsX842040wP"
      },
      "source": [
        "#Literal c)"
      ]
    },
    {
      "cell_type": "markdown",
      "metadata": {
        "id": "QwbPcdEy5eoF"
      },
      "source": [
        "#Ejercicio 7"
      ]
    },
    {
      "cell_type": "code",
      "execution_count": 145,
      "metadata": {
        "id": "lOUCMPpN5gTp"
      },
      "outputs": [],
      "source": [
        "def gauss_jacobi_method_tol(matrix_A, vector_b, tolerance=1e-22, max_iterations=300):\n",
        "    num_elements = len(vector_b)\n",
        "    current_solution = np.zeros(num_elements)\n",
        "\n",
        "    for iteration in range(max_iterations):\n",
        "        new_solution = np.zeros_like(current_solution)\n",
        "        for i in range(num_elements):\n",
        "            sum_others = sum(matrix_A[i][j] * current_solution[j] for j in range(num_elements) if j != i)\n",
        "            new_solution[i] = (vector_b[i] - sum_others) / matrix_A[i][i]\n",
        "\n",
        "        if np.linalg.norm(new_solution - current_solution, ord=np.inf) < tolerance:\n",
        "            return new_solution, iteration\n",
        "\n",
        "        current_solution = new_solution\n",
        "\n",
        "    print(\"Número máximo de iteraciones alcanzado sin convergencia.\")\n",
        "    return current_solution, max_iterations"
      ]
    },
    {
      "cell_type": "code",
      "execution_count": 146,
      "metadata": {
        "colab": {
          "base_uri": "https://localhost:8080/"
        },
        "id": "-woYRs_652m2",
        "outputId": "c9b742db-0f26-455c-8fa9-9fa516f5813a"
      },
      "outputs": [
        {
          "name": "stdout",
          "output_type": "stream",
          "text": [
            "Se alcanzó el número máximo de iteraciones sin convergencia.\n",
            "Solución Jacobi tolerancia 1e22: None\n"
          ]
        }
      ],
      "source": [
        "sb = np.array([0.2, -1.425, 2])\n",
        "solucion = metodo_gauss_jacobi_tol(Sb, sb)\n",
        "print(\"Solución Jacobi tolerancia 1e22:\", solucion)"
      ]
    },
    {
      "cell_type": "code",
      "execution_count": 147,
      "metadata": {
        "colab": {
          "base_uri": "https://localhost:8080/"
        },
        "id": "zNj6tvvr57o7",
        "outputId": "36db2b9d-7222-47f0-960b-c213818237f8"
      },
      "outputs": [
        {
          "name": "stdout",
          "output_type": "stream",
          "text": [
            "Se alcanzó el número máximo de iteraciones sin convergencia.\n",
            "Solición Jacobi cambio de sistema: None\n"
          ]
        }
      ],
      "source": [
        "solucion = metodo_gauss_jacobi_tol(Sb, sb)\n",
        "print(\"Solición Jacobi cambio de sistema:\", solucion)"
      ]
    },
    {
      "cell_type": "markdown",
      "metadata": {
        "id": "7F31vkN66L6F"
      },
      "source": [
        "#Ejercicio 8"
      ]
    },
    {
      "cell_type": "markdown",
      "metadata": {
        "id": "djJ2WIuc7qKp"
      },
      "source": [
        "#Literal a)"
      ]
    },
    {
      "cell_type": "code",
      "execution_count": 148,
      "metadata": {
        "id": "Qt7zcHVq6PCI"
      },
      "outputs": [],
      "source": [
        "O = np.array([\n",
        "    [4, -1, 0, 0, -1, 0, 0, 0, 0, 0, 0, 0],\n",
        "    [-1, 4, -1, 0, 0, 0, 0, 0, 0, 0, 0, 0],\n",
        "    [0, -1, 4, -1, 0, 0, 0, 0, 0, 0, 0, 0],\n",
        "    [0, 0, -1, 4, 0, 0, -1, 0, 0, 0, 0, 0],\n",
        "    [-1, 0, 0, 0, 4, -1, 0, 0, 0, 0, 0, 0],\n",
        "    [0, 0, 0, 0, -1, 4, 0, 0, -1, 0, 0, 0],\n",
        "    [0, 0, 0, -1, 0, 0, 4, -1, 0, 0, 0, 0],\n",
        "    [0, 0, 0, 0, 0, 0, -1, 4, -1, 0, 0, 0],\n",
        "    [0, 0, 0, 0, 0, -1, 0, -1, 4, 0, 0, -1],\n",
        "    [0, 0, 0, 0, 0, 0, 0, 0, 0, 4, -1, 0],\n",
        "    [0, 0, 0, 0, 0, 0, 0, 0, 0, -1, 4, -1],\n",
        "    [0, 0, 0, 0, 0, 0, 0, 0, -1, 0, -1, 4]\n",
        "])\n",
        "\n",
        "o = np.array([220, 110, 110, 220, 110, 110, 110, 110, 220, 110, 110, 220])"
      ]
    },
    {
      "cell_type": "code",
      "execution_count": 149,
      "metadata": {
        "colab": {
          "base_uri": "https://localhost:8080/"
        },
        "id": "DNl1pz8n6u5z",
        "outputId": "6b211b69-ec84-4fcb-e5c6-32605bac17e4"
      },
      "outputs": [
        {
          "name": "stdout",
          "output_type": "stream",
          "text": [
            "La matriz tiene una diagonal estrictamente dominante.\n"
          ]
        }
      ],
      "source": [
        "resultado, fila = es_diagonal_estrictamente_dominante(O)\n",
        "\n",
        "if resultado:\n",
        "    print(\"La matriz tiene una diagonal estrictamente dominante.\")\n",
        "else:\n",
        "    print(f\"La matriz no tiene una diagonal estrictamente dominante. Fila {fila} no cumple la condición.\")"
      ]
    },
    {
      "cell_type": "markdown",
      "metadata": {
        "id": "L0o9RO177scd"
      },
      "source": [
        "#Literal b)"
      ]
    },
    {
      "cell_type": "code",
      "execution_count": 150,
      "metadata": {
        "id": "-dsvLNDU7pXk"
      },
      "outputs": [],
      "source": [
        "def gauss_jacobi_tol_8(A, b, tol=1e-2, max_iteraciones=1000):\n",
        "    n = len(b)\n",
        "    x = np.zeros(n)\n",
        "\n",
        "    for iteracion in range(max_iteraciones):\n",
        "        x_nuevo = np.zeros_like(x)\n",
        "        for i in range(n):\n",
        "            suma = sum(A[i][j] * x[j] for j in range(n) if j != i)\n",
        "            x_nuevo[i] = (b[i] - suma) / A[i][i]\n",
        "\n",
        "        if np.linalg.norm(x_nuevo - x, ord=np.inf) < tol:\n",
        "            return x_nuevo, iteracion\n",
        "\n",
        "        x = x_nuevo\n",
        "\n",
        "    print(\"Se alcanzó el número máximo de iteraciones sin convergencia.\")"
      ]
    },
    {
      "cell_type": "code",
      "execution_count": 151,
      "metadata": {
        "id": "4oGbH-vu9BsT"
      },
      "outputs": [],
      "source": [
        "def gauss_seidel_tol8(A, b, tol=1e-2, max_iteraciones=1000):\n",
        "    n = len(b)\n",
        "    x = np.zeros(n)\n",
        "\n",
        "    for iteracion in range(max_iteraciones):\n",
        "        x_nuevo = np.copy(x)\n",
        "        for i in range(n):\n",
        "            suma1 = sum(A[i][j] * x_nuevo[j] for j in range(i))\n",
        "            suma2 = sum(A[i][j] * x[j] for j in range(i + 1, n))\n",
        "            x_nuevo[i] = (b[i] - suma1 - suma2) / A[i][i]\n",
        "\n",
        "        if np.linalg.norm(x_nuevo - x, ord=np.inf) < tol:\n",
        "            return x_nuevo, iteracion\n",
        "\n",
        "        x = x_nuevo\n",
        "\n",
        "    print(\"Se alcanzó el número máximo de iteraciones sin convergencia.\")\n",
        "    return x"
      ]
    },
    {
      "cell_type": "code",
      "execution_count": 152,
      "metadata": {
        "colab": {
          "base_uri": "https://localhost:8080/"
        },
        "id": "HLf1d4qm78TF",
        "outputId": "16556fe0-1ef8-481e-b92c-d5b6eb2f2b1b"
      },
      "outputs": [
        {
          "name": "stdout",
          "output_type": "stream",
          "text": [
            "Solución Jacobi tolerancia 1e-2: (array([ 88.56189051,  66.18473877,  66.18473877,  88.56189051,\n",
            "        68.07105926,  73.73321353,  68.07105926,  73.73321353,\n",
            "       116.87473866,  43.33541929,  63.34492734, 100.05204068]), 14)\n",
            "Solución Seidel tolerancia 1e-2: (array([ 88.56398155,  66.18712394,  66.18754444,  88.56541646,\n",
            "        68.07550445,  73.73968709,  68.0759504 ,  73.73979858,\n",
            "       116.88434376,  43.33707837,  63.34874193, 100.05827142]), 9)\n"
          ]
        }
      ],
      "source": [
        "sol = gauss_jacobi_tol_8(O, o)\n",
        "print(\"Solución Jacobi tolerancia 1e-2:\", sol)\n",
        "sol = gauss_seidel_tol8(O, o)\n",
        "print(\"Solución Seidel tolerancia 1e-2:\", sol)"
      ]
    }
  ],
  "metadata": {
    "colab": {
      "provenance": []
    },
    "kernelspec": {
      "display_name": "Python 3",
      "name": "python3"
    },
    "language_info": {
      "codemirror_mode": {
        "name": "ipython",
        "version": 3
      },
      "file_extension": ".py",
      "mimetype": "text/x-python",
      "name": "python",
      "nbconvert_exporter": "python",
      "pygments_lexer": "ipython3",
      "version": "3.12.4"
    }
  },
  "nbformat": 4,
  "nbformat_minor": 0
}
